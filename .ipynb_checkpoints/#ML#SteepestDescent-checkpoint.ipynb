{
 "cells": [
  {
   "cell_type": "code",
   "execution_count": 54,
   "metadata": {},
   "outputs": [
    {
     "name": "stdout",
     "output_type": "stream",
     "text": [
      "1e-06\n",
      "0.1 : 2460 : 4.987645848436821e-16\n",
      "0.2 : 1805 : 5.027771663997076e-16\n",
      "0.3 : 1091 : 3.7431443410421314e-16\n",
      "0.4 : 933 : 2.4413952679197796e-16\n",
      "0.5 : 518 : 3.07476737585493e-16\n",
      "0.6 : 503 : 5.019431836606276e-16\n",
      "0.7 : 773 : 4.941378540546984e-16\n",
      "0.8 : 294 : 2.834462978517837e-16\n",
      "0.9 : 338 : 3.0358801429552713e-16\n",
      "1.0 : 6908 : 5.000057028272357e-16\n",
      "1.1 : 6908 : 4.999694832131002e-16\n",
      "[2460, 1805, 1091, 933, 518, 503, 773, 294, 338, 6908, 6908]\n"
     ]
    }
   ],
   "source": [
    "def exact_steepest_descent(func, func_d, inital, bs, threshold):\n",
    "    counts = []\n",
    "    for b in bs:\n",
    "        count = 0\n",
    "        x = inital[0]\n",
    "        y = inital[1]\n",
    "        \n",
    "        while(x > threshold):\n",
    "            count += 1\n",
    "            #print('old:',x, y)\n",
    "            x, y = inner_exact_steepest_descent(f, fd, [x, y], b)\n",
    "        #print('new:',x, y)\n",
    "        #print('count:', count)\n",
    "        print(b,\":\",count,\":\", func(x, y))\n",
    "        counts.append(count)\n",
    "        \n",
    "    return counts\n",
    "    \n",
    "def inner_exact_steepest_descent(func, func_d, inital, b):\n",
    "    #print(func(inital[0], inital[1]))\n",
    "    x = inital[0]\n",
    "    y = inital[1]\n",
    "    rx = -func_d(x, 0)\n",
    "    ry = -func_d(0, y)\n",
    "    m = y/x\n",
    "\n",
    "    a = (c**2+m**2)/(c**3+m**2)\n",
    "    \n",
    "    new_x = x + b*a*rx\n",
    "    new_y = y + b*a*ry\n",
    "    \n",
    "    return new_x, new_y\n",
    "    \n",
    "c = 0.001\n",
    "f = lambda x, y: 0.5*(c*x**2+y**2)\n",
    "fd= lambda x, y: c*x+y\n",
    "inital = [1.0, c]\n",
    "bs = [0.1,0.2,0.3,0.4,0.5,0.6,0.7,0.8,0.9,1.0,1.1]\n",
    "threshold = 10**-6\n",
    "print(threshold)\n",
    "counts = exact_steepest_descent(f, fd, inital, bs, threshold)\n",
    "print(counts)"
   ]
  },
  {
   "cell_type": "code",
   "execution_count": 55,
   "metadata": {},
   "outputs": [
    {
     "name": "stdout",
     "output_type": "stream",
     "text": [
      "11\n",
      "11\n"
     ]
    },
    {
     "data": {
      "image/png": "[encoded data removed]",
      "text/plain": [
       "<matplotlib.figure.Figure at 0x11d1622e8>"
      ]
     },
     "metadata": {},
     "output_type": "display_data"
    }
   ],
   "source": [
    "%matplotlib inline\n",
    "import matplotlib.pyplot as plt\n",
    "print(len(bs))\n",
    "print(len(counts))\n",
    "plt.scatter(bs,counts)\n",
    "plt.show()"
   ]
  },
  {
   "cell_type": "code",
   "execution_count": 56,
   "metadata": {},
   "outputs": [
    {
     "name": "stdout",
     "output_type": "stream",
     "text": [
      "1e-06\n",
      "0.5498609573981065 : 584 : 5.6496769410751e-16\n",
      "0.12985180023897558 : 2021 : 4.7259279828121235e-16\n",
      "0.923089949132023 : 239 : 9.007329332602057e-16\n",
      "0.5190155558085617 : 556 : 1.789032431818869e-16\n",
      "0.13500841344370096 : 2038 : 4.9787462761972e-16\n",
      "0.18673415734403298 : 1898 : 4.813023222093736e-16\n",
      "0.13063769026885852 : 2323 : 4.988144431542131e-16\n",
      "0.6763884215996915 : 608 : 4.992405160241701e-16\n",
      "0.7121190223010875 : 405 : 2.8943618488366015e-16\n",
      "0.6570279276775487 : 586 : 3.4564690871467187e-16\n",
      "0.16849878335614943 : 1905 : 4.405190560030896e-16\n",
      "[584, 2021, 239, 556, 2038, 1898, 2323, 608, 405, 586, 1905]\n"
     ]
    },
    {
     "data": {
      "image/png": "[encoded data removed]",
      "text/plain": [
       "<matplotlib.figure.Figure at 0x11d401a20>"
      ]
     },
     "metadata": {},
     "output_type": "display_data"
    }
   ],
   "source": [
    "\n",
    "import random\n",
    "\n",
    "def exact_steepest_descent(func, func_d, inital, bs, threshold):\n",
    "    counts = []\n",
    "    for b in bs:\n",
    "        count = 0\n",
    "        x = inital[0]\n",
    "        y = inital[1]\n",
    "        \n",
    "        b = random.uniform(0, 1.0) \n",
    "        while(x > threshold):\n",
    "            count += 1\n",
    "            #print('old:',x, y)\n",
    "            x, y = inner_exact_steepest_descent(f, fd, [x, y], b)\n",
    "        #print('new:',x, y)\n",
    "        #print('count:', count)\n",
    "        print(b,\":\",count,\":\", func(x, y))\n",
    "        counts.append(count)\n",
    "    \n",
    "    return counts\n",
    "    \n",
    "c = 0.001\n",
    "f = lambda x, y: 0.5*(c*x**2+y**2)\n",
    "fd= lambda x, y: c*x+y\n",
    "inital = [1, c]\n",
    "bs = [0.1,0.2,0.3,0.4,0.5,0.6,0.7,0.8,0.9,1.0,1.1]\n",
    "threshold = 10**-6\n",
    "print(threshold)\n",
    "counts = exact_steepest_descent(f, fd, inital, bs, threshold)\n",
    "print(counts)\n",
    "\n",
    "%matplotlib inline\n",
    "import matplotlib.pyplot as plt\n",
    "\n",
    "plt.scatter(bs,counts)\n",
    "plt.show()"
   ]
  },
  {
   "cell_type": "code",
   "execution_count": 74,
   "metadata": {},
   "outputs": [
    {
     "name": "stdout",
     "output_type": "stream",
     "text": [
      "1e-06\n",
      "0.1 : 138149 : 4.999197733481358e-16\n",
      "0.5 : 27625 : 4.995564783186972e-16\n",
      "0.9 : 15344 : 4.996926013863204e-16\n",
      "1.5 : 9204 : 4.991464212284599e-16\n",
      "1.99 : 6936 : 4.991194602445235e-16\n",
      "1.999 : 6905 : 4.997995676015769e-13\n",
      "1.9995 : 6903 : 5.015172718612033e-10\n",
      "2.0 : 6901 : 5.000000004996902e-07\n",
      "[138149, 27625, 15344, 9204, 6936, 6905, 6903, 6901]\n",
      "8\n",
      "8\n"
     ]
    },
    {
     "data": {
      "image/png": "[encoded data removed]",
      "text/plain": [
       "<matplotlib.figure.Figure at 0x11d41fa90>"
      ]
     },
     "metadata": {},
     "output_type": "display_data"
    }
   ],
   "source": [
    "# e-step\n",
    "\n",
    "def e_steepest_descent(func, func_d, inital, es, threshold):\n",
    "    counts = []\n",
    "    for e in es:\n",
    "        count = 0\n",
    "        x = inital[0]\n",
    "        y = inital[1]\n",
    "        \n",
    "        while(x > threshold):\n",
    "            count += 1\n",
    "            x, y = inner_e_steepest_descent(f, fd, [x, y], e)\n",
    "            \n",
    "        print(e,\":\",count,\":\", func(x, y))\n",
    "        counts.append(count)\n",
    "        \n",
    "    return counts\n",
    "    \n",
    "def inner_e_steepest_descent(func, func_d, inital, e):\n",
    "    #print(func(inital[0], inital[1]))\n",
    "    x = inital[0]\n",
    "    y = inital[1]\n",
    "    rx = -func_d(x, 0)\n",
    "    ry = -func_d(0, y)\n",
    "    \n",
    "    new_x = x + e*rx\n",
    "    new_y = y + e*ry\n",
    "    \n",
    "    return new_x, new_y\n",
    "    \n",
    "c = 0.001\n",
    "f = lambda x, y: 0.5*(c*x**2+y**2)\n",
    "fd= lambda x, y: c*x+y\n",
    "\n",
    "inital = [1.0, c]\n",
    "es = [0.1, 0.5, 0.9, 1.5, 1.99, 1.999,1.9995,2.0]\n",
    "threshold = 10**-6\n",
    "print(threshold)\n",
    "counts = e_steepest_descent(f, fd, inital, es, threshold)\n",
    "print(counts)\n",
    "\n",
    "%matplotlib inline\n",
    "import matplotlib.pyplot as plt\n",
    "print(len(es))\n",
    "print(len(counts))\n",
    "\n",
    "plt.scatter(es,counts)\n",
    "plt.show()"
   ]
  },
  {
   "cell_type": "code",
   "execution_count": null,
   "metadata": {},
   "outputs": [],
   "source": []
  }
 ],
 "metadata": {
  "kernelspec": {
   "display_name": "Python 3",
   "language": "python",
   "name": "python3"
  },
  "language_info": {
   "codemirror_mode": {
    "name": "ipython",
    "version": 3
   },
   "file_extension": ".py",
   "mimetype": "text/x-python",
   "name": "python",
   "nbconvert_exporter": "python",
   "pygments_lexer": "ipython3",
   "version": "3.6.4"
  },
  "toc": {
   "colors": {
    "hover_highlight": "#DAA520",
    "navigate_num": "#000000",
    "navigate_text": "#333333",
    "running_highlight": "#FF0000",
    "selected_highlight": "#FFD700",
    "sidebar_border": "#EEEEEE",
    "wrapper_background": "#FFFFFF"
   },
   "moveMenuLeft": true,
   "nav_menu": {
    "height": "12px",
    "width": "252px"
   },
   "navigate_menu": true,
   "number_sections": true,
   "sideBar": true,
   "threshold": 4,
   "toc_cell": false,
   "toc_section_display": "block",
   "toc_window_display": false,
   "widenNotebook": false
  }
 },
 "nbformat": 4,
 "nbformat_minor": 2
}
