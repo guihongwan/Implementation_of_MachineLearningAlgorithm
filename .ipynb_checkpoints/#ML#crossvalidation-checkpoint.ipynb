{
 "cells": [
  {
   "cell_type": "code",
   "execution_count": 465,
   "metadata": {},
   "outputs": [
    {
     "data": {
      "text/html": [
       "<div>\n",
       "<style scoped>\n",
       "    .dataframe tbody tr th:only-of-type {\n",
       "        vertical-align: middle;\n",
       "    }\n",
       "\n",
       "    .dataframe tbody tr th {\n",
       "        vertical-align: top;\n",
       "    }\n",
       "\n",
       "    .dataframe thead th {\n",
       "        text-align: right;\n",
       "    }\n",
       "</style>\n",
       "<table border=\"1\" class=\"dataframe\">\n",
       "  <thead>\n",
       "    <tr style=\"text-align: right;\">\n",
       "      <th></th>\n",
       "      <th>x</th>\n",
       "      <th>classification</th>\n",
       "    </tr>\n",
       "  </thead>\n",
       "  <tbody>\n",
       "    <tr>\n",
       "      <th>0</th>\n",
       "      <td>1</td>\n",
       "      <td>1</td>\n",
       "    </tr>\n",
       "    <tr>\n",
       "      <th>1</th>\n",
       "      <td>2</td>\n",
       "      <td>1</td>\n",
       "    </tr>\n",
       "    <tr>\n",
       "      <th>2</th>\n",
       "      <td>4</td>\n",
       "      <td>1</td>\n",
       "    </tr>\n",
       "    <tr>\n",
       "      <th>3</th>\n",
       "      <td>5</td>\n",
       "      <td>0</td>\n",
       "    </tr>\n",
       "    <tr>\n",
       "      <th>4</th>\n",
       "      <td>6</td>\n",
       "      <td>0</td>\n",
       "    </tr>\n",
       "    <tr>\n",
       "      <th>5</th>\n",
       "      <td>7</td>\n",
       "      <td>0</td>\n",
       "    </tr>\n",
       "  </tbody>\n",
       "</table>\n",
       "</div>"
      ],
      "text/plain": [
       "   x  classification\n",
       "0  1               1\n",
       "1  2               1\n",
       "2  4               1\n",
       "3  5               0\n",
       "4  6               0\n",
       "5  7               0"
      ]
     },
     "execution_count": 465,
     "metadata": {},
     "output_type": "execute_result"
    }
   ],
   "source": [
    "import pandas as pd\n",
    "\n",
    "data = pd.read_csv(\"datasets/cross_validataion.csv\")\n",
    "data"
   ]
  },
  {
   "cell_type": "code",
   "execution_count": 466,
   "metadata": {},
   "outputs": [
    {
     "data": {
      "text/plain": [
       "0    1\n",
       "1    2\n",
       "2    4\n",
       "3    5\n",
       "4    6\n",
       "5    7\n",
       "Name: x, dtype: int64"
      ]
     },
     "execution_count": 466,
     "metadata": {},
     "output_type": "execute_result"
    }
   ],
   "source": [
    "X_train = data['x']\n",
    "X_train"
   ]
  },
  {
   "cell_type": "code",
   "execution_count": 467,
   "metadata": {},
   "outputs": [
    {
     "data": {
      "text/plain": [
       "0    1\n",
       "1    1\n",
       "2    1\n",
       "3    0\n",
       "4    0\n",
       "5    0\n",
       "Name: classification, dtype: int64"
      ]
     },
     "execution_count": 467,
     "metadata": {},
     "output_type": "execute_result"
    }
   ],
   "source": [
    "y_train = data['classification']\n",
    "y_train"
   ]
  },
  {
   "cell_type": "markdown",
   "metadata": {},
   "source": [
    "# Algorithm A (MeanClassifier)"
   ]
  },
  {
   "cell_type": "code",
   "execution_count": 488,
   "metadata": {},
   "outputs": [],
   "source": [
    "from sklearn.base import BaseEstimator\n",
    "from statistics import mean\n",
    "import math\n",
    "\n",
    "class MeanClassifier(BaseEstimator):\n",
    "    mean_class = {}\n",
    "    def fit(self, X, y):#X should only have one attribute with numerical values\n",
    "        #all categories\n",
    "        target_values_counts = y.value_counts()\n",
    "        target_values = []\n",
    "        for value, count in target_values_counts.items():\n",
    "            target_values.append(value)\n",
    "        #print('target_values', target_values)    \n",
    "        \n",
    "        #group attribute values based on categories\n",
    "        attribute_class = {}\n",
    "        #print('X', X)\n",
    "        #print('y', y)\n",
    "        for idx,value in X.items():\n",
    "            #print(idx,value)\n",
    "            target_list = attribute_class.get(y[idx], [])\n",
    "            target_list.append(value)\n",
    "            attribute_class[y[idx]] = target_list\n",
    "        \n",
    "        #print('attribute_class', attribute_class)    \n",
    "        #mean\n",
    "        for key, list_values in attribute_class.items():\n",
    "            self.mean_class[key] = mean(list_values)\n",
    "            \n",
    "        return self.mean_class\n",
    "        \n",
    "    def predict(self, X):\n",
    "        ret = {}\n",
    "        for x in X:\n",
    "            #print(x)\n",
    "            min_class= math.inf\n",
    "            min_diff = math.inf\n",
    "            for key, mean in self.mean_class.items():\n",
    "                #print(key, mean)\n",
    "            \n",
    "                diff = math.fabs(x-mean)\n",
    "                if(diff < min_diff):\n",
    "                    min_diff = diff\n",
    "                    min_class = key\n",
    "            #print('min', x, min_diff, min_class)\n",
    "            ret[x] = min_class\n",
    "        return ret"
   ]
  },
  {
   "cell_type": "code",
   "execution_count": 489,
   "metadata": {},
   "outputs": [
    {
     "name": "stdout",
     "output_type": "stream",
     "text": [
      "{1: 2.3333333333333335, 0: 6}\n"
     ]
    }
   ],
   "source": [
    "mean_clf = MeanClassifier()\n",
    "\n",
    "print(mean_clf.fit(X_train, y_train))"
   ]
  },
  {
   "cell_type": "code",
   "execution_count": 490,
   "metadata": {},
   "outputs": [
    {
     "name": "stdout",
     "output_type": "stream",
     "text": [
      "{1: 1, 2: 1, 4: 1, 5: 0, 6: 0, 7: 0}\n"
     ]
    }
   ],
   "source": [
    "print(mean_clf.predict(X_train))"
   ]
  },
  {
   "cell_type": "code",
   "execution_count": 491,
   "metadata": {},
   "outputs": [
    {
     "name": "stdout",
     "output_type": "stream",
     "text": [
      "{5: 0}\n"
     ]
    }
   ],
   "source": [
    "print(mean_clf.predict([5]))"
   ]
  },
  {
   "cell_type": "markdown",
   "metadata": {},
   "source": [
    "# Algorithm B (NearestClassifier)"
   ]
  },
  {
   "cell_type": "code",
   "execution_count": 552,
   "metadata": {},
   "outputs": [
    {
     "ename": "ImportError",
     "evalue": "cannot import name 'std'",
     "output_type": "error",
     "traceback": [
      "\u001b[0;31m---------------------------------------------------------------------------\u001b[0m",
      "\u001b[0;31mImportError\u001b[0m                               Traceback (most recent call last)",
      "\u001b[0;32m<ipython-input-552-5e1c81d4368b>\u001b[0m in \u001b[0;36m<module>\u001b[0;34m()\u001b[0m\n\u001b[1;32m      1\u001b[0m \u001b[0;32mfrom\u001b[0m \u001b[0msklearn\u001b[0m\u001b[0;34m.\u001b[0m\u001b[0mbase\u001b[0m \u001b[0;32mimport\u001b[0m \u001b[0mBaseEstimator\u001b[0m\u001b[0;34m\u001b[0m\u001b[0m\n\u001b[1;32m      2\u001b[0m \u001b[0;32mfrom\u001b[0m \u001b[0mstatistics\u001b[0m \u001b[0;32mimport\u001b[0m \u001b[0mmean\u001b[0m\u001b[0;34m\u001b[0m\u001b[0m\n\u001b[0;32m----> 3\u001b[0;31m \u001b[0;32mfrom\u001b[0m \u001b[0mstatistics\u001b[0m \u001b[0;32mimport\u001b[0m \u001b[0mstd\u001b[0m\u001b[0;34m\u001b[0m\u001b[0m\n\u001b[0m\u001b[1;32m      4\u001b[0m \u001b[0;32mimport\u001b[0m \u001b[0mmath\u001b[0m\u001b[0;34m\u001b[0m\u001b[0m\n\u001b[1;32m      5\u001b[0m \u001b[0;34m\u001b[0m\u001b[0m\n",
      "\u001b[0;31mImportError\u001b[0m: cannot import name 'std'"
     ]
    }
   ],
   "source": [
    "from sklearn.base import BaseEstimator\n",
    "from statistics import mean\n",
    "import statistics\n",
    "import math\n",
    "\n",
    "class NearestClassifier(BaseEstimator):\n",
    "    def fit(self, X, y):\n",
    "        self.X = X\n",
    "        self.y = y\n",
    "    def predict(self, X):\n",
    "        ret = {}\n",
    "        for x in X:\n",
    "            min_idx = math.inf\n",
    "            min_diff = math.inf\n",
    "            for idx, value in self.X.items():\n",
    "                diff = math.fabs(value-x)\n",
    "                if(diff < min_diff):\n",
    "                    min_diff = diff\n",
    "                    min_idx = idx\n",
    "            ret[x] = self.y[min_idx]\n",
    "        return ret"
   ]
  },
  {
   "cell_type": "code",
   "execution_count": 494,
   "metadata": {},
   "outputs": [
    {
     "name": "stdout",
     "output_type": "stream",
     "text": [
      "{5: 0, 9: 0}\n"
     ]
    }
   ],
   "source": [
    "near_clf = NearestClassifier()\n",
    "\n",
    "near_clf.fit(X_train, y_train)\n",
    "print(near_clf.predict([5,9]))"
   ]
  },
  {
   "cell_type": "markdown",
   "metadata": {},
   "source": [
    "# Cross Validation"
   ]
  },
  {
   "cell_type": "code",
   "execution_count": 502,
   "metadata": {},
   "outputs": [],
   "source": [
    "def k_cross_validation(classifier, X, y, k=3):\n",
    "    # folders\n",
    "    folders_X = {}\n",
    "    folders_y = {}\n",
    "    n_elements = int(len(X)/k)\n",
    "    #print('n_elements:', n_elements)\n",
    "    for idx in range(k):\n",
    "        folders_X[idx] = X[idx*n_elements:idx*n_elements+n_elements]\n",
    "        folders_y[idx] = y[idx*n_elements:idx*n_elements+n_elements]\n",
    "    #print(folders_X)\n",
    "    #print(folders_y)\n",
    "    \n",
    "    errors = []\n",
    "    for idx in range(k):\n",
    "        X_test = folders_X[idx]\n",
    "        y_test = folders_y[idx]\n",
    "        \n",
    "        X_train = pd.Series()\n",
    "        y_train = pd.Series()\n",
    "        for i in range(k):\n",
    "            if(i != idx):\n",
    "                X_train = pd.concat([X_train, folders_X[i]], axis=0)\n",
    "                y_train = pd.concat([y_train, folders_y[i]], axis=0)\n",
    "        \n",
    "        #print(X_train)\n",
    "        #print(y_train)\n",
    "        \n",
    "        classifier.fit(X_train, y_train)\n",
    "        y_predict = classifier.predict(X_test)\n",
    "        #print(y_predict)\n",
    "        y_predict_list  = list(y_predict.values())\n",
    "        #print(y_predict_list)\n",
    "        y_test_list = list(y_test)\n",
    "        #print(y_test_list)\n",
    "        diff = [test - pred for test, pred in zip(y_test_list, y_predict_list)]\n",
    "        count = 0\n",
    "        for element in diff:\n",
    "            if(element != 0):\n",
    "                count += 1\n",
    "        errors.append(count)\n",
    "    return mean(errors)\n",
    "\n",
    "def cross_validation(classifier, X, y, k=3, cv = 1):\n",
    "    errors = []\n",
    "    for time in range(cv):\n",
    "        e = k_cross_validation(classifier, X, y, k)\n",
    "        errors.append(e)\n",
    "    return mean(errors)\n",
    "    "
   ]
  },
  {
   "cell_type": "code",
   "execution_count": 504,
   "metadata": {},
   "outputs": [
    {
     "name": "stdout",
     "output_type": "stream",
     "text": [
      "0.3333333333333333\n"
     ]
    }
   ],
   "source": [
    "near_clf = NearestClassifier()\n",
    "e = cross_validation(near_clf, X_train, y_train, 6, 1)\n",
    "print(e)"
   ]
  },
  {
   "cell_type": "markdown",
   "metadata": {},
   "source": [
    "# HW3 Q2"
   ]
  },
  {
   "cell_type": "code",
   "execution_count": 537,
   "metadata": {},
   "outputs": [
    {
     "name": "stdout",
     "output_type": "stream",
     "text": [
      "   x  classification\n",
      "1  1               1\n",
      "2  2               0\n",
      "3  4               1\n",
      "4  5               1\n",
      "5  6               0\n",
      "6  7               0\n"
     ]
    }
   ],
   "source": [
    "import pandas as pd\n",
    "\n",
    "index = [1,2,3,4,5,6]\n",
    "data = pd.DataFrame({\n",
    "    'x': [1,2,4,5,6,7],\n",
    "    'classification': [1, 0, 1, 1, 0, 0]},\n",
    "    index=index)\n",
    "\n",
    "print(data)"
   ]
  },
  {
   "cell_type": "code",
   "execution_count": 538,
   "metadata": {},
   "outputs": [],
   "source": [
    "X = data['x']\n",
    "y = data['classification']"
   ]
  },
  {
   "cell_type": "code",
   "execution_count": 539,
   "metadata": {},
   "outputs": [
    {
     "name": "stdout",
     "output_type": "stream",
     "text": [
      "0.3333333333333333\n",
      "0.5\n"
     ]
    }
   ],
   "source": [
    "#part 1 \n",
    "mean_clf = MeanClassifier()\n",
    "e = cross_validation(mean_clf, X, y, 6, 1)\n",
    "print(e)\n",
    "\n",
    "near_clf = NearestClassifier()\n",
    "e = cross_validation(near_clf, X, y, 6, 1)\n",
    "print(e)"
   ]
  },
  {
   "cell_type": "code",
   "execution_count": 550,
   "metadata": {},
   "outputs": [
    {
     "name": "stdout",
     "output_type": "stream",
     "text": [
      "permutation 1\n",
      "mean_clf 1.6666666666666667\n",
      "near_clf 1.6666666666666667\n",
      "permutation 2\n",
      "mean_clf 0.6666666666666666\n",
      "near_clf 1\n",
      "permutation 3\n",
      "mean_clf 1.6666666666666667\n",
      "near_clf 1.3333333333333333\n",
      "1.3333333333333335 1.3333333333333333\n"
     ]
    }
   ],
   "source": [
    "#part 2\n",
    "ret1 = []\n",
    "ret2 = []\n",
    "#1\n",
    "print('permutation 1')\n",
    "idx = [1, 2, 3, 4, 5, 6]\n",
    "X_1, y_1 =X[idx], y[idx]\n",
    "mean_clf = MeanClassifier()\n",
    "e1 = cross_validation(mean_clf, X_1, y_1, 3, 1)\n",
    "print('mean_clf', e1)\n",
    "ret1.append(e1)\n",
    "\n",
    "near_clf = NearestClassifier()\n",
    "e2 = cross_validation(near_clf, X_1, y_1, 3, 1)\n",
    "print('near_clf', e2)\n",
    "ret2.append(e2)\n",
    "\n",
    "#2\n",
    "print('permutation 2')\n",
    "idx = [1, 3, 5, 2, 4, 6]\n",
    "X_2, y_2 = X[idx], y[idx]\n",
    "mean_clf = MeanClassifier()\n",
    "e1 = cross_validation(mean_clf, X_2, y_2, 3, 1)\n",
    "print('mean_clf', e1)\n",
    "ret1.append(e1)\n",
    "\n",
    "near_clf = NearestClassifier()\n",
    "e2 = cross_validation(near_clf, X_2, y_2, 3, 1)\n",
    "print('near_clf', e2)\n",
    "ret2.append(e2)\n",
    "\n",
    "#3\n",
    "print('permutation 3')\n",
    "idx = [1, 6, 2, 5, 3, 4]\n",
    "X_3, y_3 = X[idx], y[idx]\n",
    "mean_clf = MeanClassifier()\n",
    "e1 = cross_validation(mean_clf, X_3, y_3, 3, 1)\n",
    "print('mean_clf', e1)\n",
    "ret1.append(e1)\n",
    "\n",
    "near_clf = NearestClassifier()\n",
    "e2 = cross_validation(near_clf, X_3, y_3, 3, 1)\n",
    "print('near_clf', e2)\n",
    "ret2.append(e2)\n",
    "\n",
    "print(mean(ret1), mean(ret2))\n"
   ]
  },
  {
   "cell_type": "code",
   "execution_count": 551,
   "metadata": {},
   "outputs": [
    {
     "ename": "NameError",
     "evalue": "name 'std' is not defined",
     "output_type": "error",
     "traceback": [
      "\u001b[0;31m---------------------------------------------------------------------------\u001b[0m",
      "\u001b[0;31mNameError\u001b[0m                                 Traceback (most recent call last)",
      "\u001b[0;32m<ipython-input-551-d8704fba22f1>\u001b[0m in \u001b[0;36m<module>\u001b[0;34m()\u001b[0m\n\u001b[0;32m----> 1\u001b[0;31m \u001b[0mprint\u001b[0m\u001b[0;34m(\u001b[0m\u001b[0mstd\u001b[0m\u001b[0;34m(\u001b[0m\u001b[0mret1\u001b[0m\u001b[0;34m)\u001b[0m\u001b[0;34m,\u001b[0m \u001b[0mstd\u001b[0m\u001b[0;34m(\u001b[0m\u001b[0mret2\u001b[0m\u001b[0;34m)\u001b[0m\u001b[0;34m)\u001b[0m\u001b[0;34m\u001b[0m\u001b[0m\n\u001b[0m",
      "\u001b[0;31mNameError\u001b[0m: name 'std' is not defined"
     ]
    }
   ],
   "source": [
    "import print(std(ret1), std(ret2))\n"
   ]
  },
  {
   "cell_type": "markdown",
   "metadata": {},
   "source": [
    "# Other"
   ]
  },
  {
   "cell_type": "code",
   "execution_count": 385,
   "metadata": {},
   "outputs": [
    {
     "data": {
      "text/plain": [
       "A    1\n",
       "B    2\n",
       "Name: s1, dtype: int64"
      ]
     },
     "execution_count": 385,
     "metadata": {},
     "output_type": "execute_result"
    }
   ],
   "source": [
    "s1 = pd.Series([1, 2], index=['A', 'B'], name='s1')\n",
    "s1"
   ]
  },
  {
   "cell_type": "code",
   "execution_count": 170,
   "metadata": {},
   "outputs": [
    {
     "data": {
      "text/plain": [
       "A    3\n",
       "B    4\n",
       "Name: s2, dtype: int64"
      ]
     },
     "execution_count": 170,
     "metadata": {},
     "output_type": "execute_result"
    }
   ],
   "source": [
    "s2 = pd.Series([3, 4], index=['A', 'B'], name='s2')\n",
    "s2"
   ]
  },
  {
   "cell_type": "code",
   "execution_count": 171,
   "metadata": {},
   "outputs": [
    {
     "data": {
      "text/html": [
       "<div>\n",
       "<style scoped>\n",
       "    .dataframe tbody tr th:only-of-type {\n",
       "        vertical-align: middle;\n",
       "    }\n",
       "\n",
       "    .dataframe tbody tr th {\n",
       "        vertical-align: top;\n",
       "    }\n",
       "\n",
       "    .dataframe thead th {\n",
       "        text-align: right;\n",
       "    }\n",
       "</style>\n",
       "<table border=\"1\" class=\"dataframe\">\n",
       "  <thead>\n",
       "    <tr style=\"text-align: right;\">\n",
       "      <th></th>\n",
       "      <th>s1</th>\n",
       "      <th>s2</th>\n",
       "    </tr>\n",
       "  </thead>\n",
       "  <tbody>\n",
       "    <tr>\n",
       "      <th>A</th>\n",
       "      <td>1</td>\n",
       "      <td>3</td>\n",
       "    </tr>\n",
       "    <tr>\n",
       "      <th>B</th>\n",
       "      <td>2</td>\n",
       "      <td>4</td>\n",
       "    </tr>\n",
       "  </tbody>\n",
       "</table>\n",
       "</div>"
      ],
      "text/plain": [
       "   s1  s2\n",
       "A   1   3\n",
       "B   2   4"
      ]
     },
     "execution_count": 171,
     "metadata": {},
     "output_type": "execute_result"
    }
   ],
   "source": [
    "pd.concat([s1, s2], axis=1)"
   ]
  },
  {
   "cell_type": "code",
   "execution_count": 172,
   "metadata": {},
   "outputs": [
    {
     "data": {
      "text/plain": [
       "A    3\n",
       "B    4\n",
       "Name: s1, dtype: int64"
      ]
     },
     "execution_count": 172,
     "metadata": {},
     "output_type": "execute_result"
    }
   ],
   "source": [
    "s11 = pd.Series([3, 4], index=['A', 'B'], name='s1')\n",
    "s11"
   ]
  },
  {
   "cell_type": "code",
   "execution_count": 174,
   "metadata": {},
   "outputs": [
    {
     "data": {
      "text/plain": [
       "A    1\n",
       "B    2\n",
       "A    3\n",
       "B    4\n",
       "Name: s1, dtype: int64"
      ]
     },
     "execution_count": 174,
     "metadata": {},
     "output_type": "execute_result"
    }
   ],
   "source": [
    "pd.concat([s1, s11], axis=0)"
   ]
  },
  {
   "cell_type": "code",
   "execution_count": null,
   "metadata": {},
   "outputs": [],
   "source": []
  }
 ],
 "metadata": {
  "kernelspec": {
   "display_name": "Python 3",
   "language": "python",
   "name": "python3"
  },
  "language_info": {
   "codemirror_mode": {
    "name": "ipython",
    "version": 3
   },
   "file_extension": ".py",
   "mimetype": "text/x-python",
   "name": "python",
   "nbconvert_exporter": "python",
   "pygments_lexer": "ipython3",
   "version": "3.6.1"
  },
  "toc": {
   "colors": {
    "hover_highlight": "#DAA520",
    "navigate_num": "#000000",
    "navigate_text": "#333333",
    "running_highlight": "#FF0000",
    "selected_highlight": "#FFD700",
    "sidebar_border": "#EEEEEE",
    "wrapper_background": "#FFFFFF"
   },
   "moveMenuLeft": true,
   "nav_menu": {
    "height": "102px",
    "width": "252px"
   },
   "navigate_menu": true,
   "number_sections": true,
   "sideBar": true,
   "threshold": 4,
   "toc_cell": false,
   "toc_section_display": "block",
   "toc_window_display": false,
   "widenNotebook": false
  }
 },
 "nbformat": 4,
 "nbformat_minor": 2
}
