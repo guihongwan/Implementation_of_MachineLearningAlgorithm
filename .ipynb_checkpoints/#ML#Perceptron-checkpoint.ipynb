{
 "cells": [
  {
   "cell_type": "code",
   "execution_count": 1,
   "metadata": {},
   "outputs": [],
   "source": [
    "%matplotlib inline\n",
    "import matplotlib\n",
    "import matplotlib.pyplot as plt\n",
    "import pandas as pd\n",
    "import math\n",
    "import numpy as np"
   ]
  },
  {
   "cell_type": "code",
   "execution_count": 2,
   "metadata": {},
   "outputs": [],
   "source": [
    "def sigmoid(z):\n",
    "    return 1/(1+np.exp(-2*z)) \n",
    "\n",
    "def tanh(z):\n",
    "    return (np.exp(z)-np.exp(-z))/(np.exp(z)+np.exp(-z))\n",
    "\n",
    "def relu(z):\n",
    "    return np.maximum(0, z)\n",
    "\n",
    "def derivative_relu(z):\n",
    "    my_dict = {True:1, False:0}\n",
    "    z_bool = z>0\n",
    "    deri = np.vectorize(my_dict.get)(z_bool)\n",
    "    return deri"
   ]
  },
  {
   "cell_type": "code",
   "execution_count": 25,
   "metadata": {},
   "outputs": [],
   "source": [
    "class Perceptron:\n",
    "    DEBUG = True\n",
    "    def __init__(self, activation=None, name=\"\"):\n",
    "        self.name = name\n",
    "        self.activation = activation\n",
    "        \n",
    "    def initialize(self, n_weights):\n",
    "        self.weight = np.ones(n_weights)\n",
    "        self.weight = self.weight.dot(0.5) #inital value [w0,w1,w2] = [0.5 0.5 0.5]\n",
    "        if(self.DEBUG):\n",
    "            print(self.weight)\n",
    "        self.err = [] #store the err for each epoch to track the training process\n",
    "        \n",
    "    def reset_err(self):\n",
    "        self.err = []\n",
    "        \n",
    "    def feed(self, x, y):# one instance\n",
    "        self.x = x\n",
    "        self.y = y\n",
    "        \n",
    "    def out(self):#instance, weight, activation function\n",
    "        h = sum(self.x.values*self.weight)\n",
    "\n",
    "        if(self.activation):\n",
    "            self.output = self.activation(h)\n",
    "        else:\n",
    "            self.output = h\n",
    "            \n",
    "        return self.output\n",
    "    \n",
    "    def caculate_derivative(self):# o\n",
    "        self.out()\n",
    "        \n",
    "        if(self.activation is tanh):\n",
    "            self.derivative = 1 - self.output**2\n",
    "        elif(self.activation is relu):\n",
    "            self.derivative = derivative_relu(self.output)\n",
    "        elif(self.activation is sigmoid):\n",
    "            self.derivative = self.output*(1-self.output)\n",
    "        else:\n",
    "            self.derivative = 1\n",
    "        #print('self.derivative:\\n',self.derivative)\n",
    "        \n",
    "    def updateWeights(self, e=0.1):\n",
    "        self.err.append(self.y.values - self.output)\n",
    "        delta = (self.y.values-self.output)*self.derivative\n",
    "        e_delta = e*delta #irrelevant to i\n",
    "        e_delta = e_delta[np.newaxis, :]\n",
    "\n",
    "        change = e_delta.dot(self.x.values[np.newaxis, :])\n",
    "        self.weight = self.weight + change\n",
    "        self.weight = self.weight.reshape(self.weight.shape[1])\n",
    "        #print('new weight:\\n', self.weight, '\\nshape:\\n', self.weight.shape)\n",
    "        \n",
    "    def predict(self, instance):\n",
    "        h = sum(instance.values*self.weight)\n",
    "#         if(self.activation is sigmoid):\n",
    "#             if self.activation(h) > 0.5:\n",
    "#                 return 1 \n",
    "#             else:\n",
    "#                 return 0\n",
    "#         elif(self.activation is tanh):\n",
    "#             if self.activation(h)>0:\n",
    "#                 return 1\n",
    "#             else:\n",
    "#                 return 0\n",
    "        \n",
    "        if(self.activation):#not None\n",
    "            return self.activation(h)\n",
    "        else:\n",
    "            return h\n",
    "        \n",
    "    def getError(self):\n",
    "        return self.err\n",
    "    \n",
    "    def getWeight(self):\n",
    "        return self.weight"
   ]
  },
  {
   "cell_type": "markdown",
   "metadata": {},
   "source": [
    "# And"
   ]
  },
  {
   "cell_type": "code",
   "execution_count": 69,
   "metadata": {},
   "outputs": [
    {
     "name": "stdout",
     "output_type": "stream",
     "text": [
      "   x0  x1  x2  y\n",
      "0   1   0   0  0\n",
      "1   1   0   1  0\n",
      "2   1   1   0  0\n",
      "3   1   1   1  1\n"
     ]
    }
   ],
   "source": [
    "#And\n",
    "data = pd.DataFrame({\n",
    "    'x0': [1,1,1,1],#bias\n",
    "    'x1': [0,0,1,1],\n",
    "    'x2': [0,1,0,1],\n",
    "    'y':  [0,0,0,1]})\n",
    "\n",
    "print(data)\n",
    "\n",
    "X = data[['x0','x1','x2']]\n",
    "y = data[['y']]"
   ]
  },
  {
   "cell_type": "markdown",
   "metadata": {},
   "source": [
    "## Perceptron without activation function"
   ]
  },
  {
   "cell_type": "code",
   "execution_count": 70,
   "metadata": {},
   "outputs": [
    {
     "name": "stdout",
     "output_type": "stream",
     "text": [
      "[0.5 0.5 0.5]\n"
     ]
    }
   ],
   "source": [
    "perceptron = Perceptron()\n",
    "\n",
    "n_weights = len(X.loc[0,])#the number of weight equals to the number of features(including bias)\n",
    "perceptron.initialize(n_weights)"
   ]
  },
  {
   "cell_type": "code",
   "execution_count": 71,
   "metadata": {},
   "outputs": [
    {
     "name": "stdout",
     "output_type": "stream",
     "text": [
      "0.5 [0]\n",
      "1.0 [0]\n",
      "1.0 [0]\n",
      "1.5 [1]\n"
     ]
    }
   ],
   "source": [
    "#test before training\n",
    "for i in range(len(X)):\n",
    "    example = X.loc[i,]\n",
    "    example_y = y.loc[i,]\n",
    "    o = perceptron.predict(example)\n",
    "    print(o,example_y.values)"
   ]
  },
  {
   "cell_type": "code",
   "execution_count": 72,
   "metadata": {},
   "outputs": [],
   "source": [
    "# Training\n",
    "# feed one instance each time\n",
    "for epoch in range(100):\n",
    "    for i in range(len(X)):\n",
    "        example = X.loc[i,]\n",
    "        example_y = y.loc[i,]\n",
    "        perceptron.feed(example,example_y)\n",
    "        perceptron.caculate_derivative()\n",
    "        perceptron.updateWeights(e=0.1)"
   ]
  },
  {
   "cell_type": "code",
   "execution_count": 73,
   "metadata": {},
   "outputs": [
    {
     "name": "stdout",
     "output_type": "stream",
     "text": [
      "-0.27739398994991415 [0]\n",
      "0.25009180837184775 [0]\n",
      "0.277884902405386 [0]\n",
      "0.8053707007271479 [1]\n"
     ]
    }
   ],
   "source": [
    "#test after training\n",
    "for i in range(len(X)):\n",
    "    example = X.loc[i,]\n",
    "    example_y = y.loc[i,]\n",
    "    o = perceptron.predict(example)\n",
    "    print(o, example_y.values)"
   ]
  },
  {
   "cell_type": "code",
   "execution_count": 74,
   "metadata": {},
   "outputs": [
    {
     "name": "stdout",
     "output_type": "stream",
     "text": [
      "final weight: [-0.27739399  0.55527889  0.5274858 ]\n"
     ]
    }
   ],
   "source": [
    "w = perceptron.getWeight()\n",
    "print('final weight:',w)"
   ]
  },
  {
   "cell_type": "code",
   "execution_count": 75,
   "metadata": {},
   "outputs": [
    {
     "data": {
      "text/plain": [
       "<matplotlib.collections.PathCollection at 0x11dd76a90>"
      ]
     },
     "execution_count": 75,
     "metadata": {},
     "output_type": "execute_result"
    },
    {
     "data": {
      "image/png": "[encoded data removed]",
      "text/plain": [
       "<Figure size 720x720 with 1 Axes>"
      ]
     },
     "metadata": {},
     "output_type": "display_data"
    }
   ],
   "source": [
    "err= perceptron.getError()\n",
    "\n",
    "plt.figure(figsize=(10,10))\n",
    "\n",
    "z = np.linspace(0, len(err), len(err))\n",
    "plt.scatter(z, err, linewidth=2)"
   ]
  },
  {
   "cell_type": "code",
   "execution_count": 76,
   "metadata": {},
   "outputs": [
    {
     "name": "stdout",
     "output_type": "stream",
     "text": [
      "[0.5 0.5 0.5]\n"
     ]
    }
   ],
   "source": [
    "perceptron = Perceptron()\n",
    "\n",
    "n_weights = len(X.loc[0,])#the number of weight equals to the number of features(including bias)\n",
    "perceptron.initialize(n_weights)"
   ]
  },
  {
   "cell_type": "code",
   "execution_count": 77,
   "metadata": {},
   "outputs": [
    {
     "name": "stdout",
     "output_type": "stream",
     "text": [
      "0.5 [0]\n",
      "1.0 [0]\n",
      "1.0 [0]\n",
      "1.5 [1]\n"
     ]
    }
   ],
   "source": [
    "#test before training\n",
    "for i in range(len(X)):\n",
    "    example = X.loc[i,]\n",
    "    example_y = y.loc[i,]\n",
    "    o = perceptron.predict(example)\n",
    "    print(o,example_y.values)"
   ]
  },
  {
   "cell_type": "code",
   "execution_count": 78,
   "metadata": {},
   "outputs": [
    {
     "name": "stdout",
     "output_type": "stream",
     "text": [
      "\n",
      "after training: [0 0]\n",
      "1.328069944379373e-05 [0]\n",
      "0.5000132806994438 [0]\n",
      "0.5000132806994438 [0]\n",
      "1.0000132806994437 [1]\n",
      "\n",
      "after training: [0 1]\n",
      "-0.2499933595993508 [0]\n",
      "1.0185446930321973e-10 [0]\n",
      "0.25000664040064924 [0]\n",
      "0.5000000001018545 [1]\n",
      "\n",
      "after training: [1 0]\n",
      "-0.3749966797742118 [0]\n",
      "-0.12500332007300655 [0]\n",
      "5.092726240718548e-11 [0]\n",
      "0.24999335975213252 [1]\n",
      "\n",
      "after training: [1 1]\n",
      "-0.12499446635825603 [0]\n",
      "0.3750011067589051 [0]\n",
      "0.5000044268828386 [0]\n",
      "0.9999999999999998 [1]\n"
     ]
    }
   ],
   "source": [
    "# Training\n",
    "# feed one instance each time\n",
    "for i in range(len(X)):\n",
    "    example = X.loc[i,]\n",
    "    example_y = y.loc[i,]\n",
    "    for epoch in range(100):\n",
    "        perceptron.feed(example,example_y)\n",
    "        perceptron.caculate_derivative()\n",
    "        perceptron.updateWeights(e=0.1)\n",
    "    \n",
    "    print('\\nafter training:',example.values[1:])\n",
    "    for j in range(len(X)):\n",
    "        example = X.loc[j,]\n",
    "        example_y = y.loc[j,]\n",
    "        o = perceptron.predict(example)\n",
    "        print(o, example_y.values)    "
   ]
  },
  {
   "cell_type": "code",
   "execution_count": 79,
   "metadata": {},
   "outputs": [
    {
     "name": "stdout",
     "output_type": "stream",
     "text": [
      "final weight: [-0.12499447  0.62499889  0.49999557]\n"
     ]
    }
   ],
   "source": [
    "w = perceptron.getWeight()\n",
    "print('final weight:',w)"
   ]
  },
  {
   "cell_type": "code",
   "execution_count": 80,
   "metadata": {},
   "outputs": [
    {
     "data": {
      "text/plain": [
       "<matplotlib.collections.PathCollection at 0x11dde0438>"
      ]
     },
     "execution_count": 80,
     "metadata": {},
     "output_type": "execute_result"
    },
    {
     "data": {
      "image/png": "[encoded data removed]",
      "text/plain": [
       "<Figure size 720x720 with 1 Axes>"
      ]
     },
     "metadata": {},
     "output_type": "display_data"
    }
   ],
   "source": [
    "err= perceptron.getError()\n",
    "    \n",
    "plt.figure(figsize=(10,10))\n",
    "z = np.linspace(0, len(err), len(err))\n",
    "plt.scatter(z, err, linewidth=2)"
   ]
  },
  {
   "cell_type": "markdown",
   "metadata": {},
   "source": [
    "## sigmoid"
   ]
  },
  {
   "cell_type": "code",
   "execution_count": 83,
   "metadata": {},
   "outputs": [
    {
     "name": "stdout",
     "output_type": "stream",
     "text": [
      "[0.5 0.5 0.5]\n",
      "before training:\n",
      "0.7310585786300049 [0]\n",
      "0.8807970779778823 [0]\n",
      "0.8807970779778823 [0]\n",
      "0.9525741268224334 [1]\n",
      "after training:\n",
      "0.1349324638003539 [0]\n",
      "0.31845162674840755 [0]\n",
      "0.320725791903598 [0]\n",
      "0.5858166705985638 [1]\n",
      "final weight: [-0.9290166   0.55379742  0.54856828]\n"
     ]
    },
    {
     "data": {
      "text/plain": [
       "<matplotlib.collections.PathCollection at 0x11e46d2e8>"
      ]
     },
     "execution_count": 83,
     "metadata": {},
     "output_type": "execute_result"
    },
    {
     "data": {
      "image/png": "[encoded data removed]",
      "text/plain": [
       "<Figure size 720x720 with 1 Axes>"
      ]
     },
     "metadata": {},
     "output_type": "display_data"
    }
   ],
   "source": [
    "perceptron = Perceptron(activation=sigmoid)\n",
    "\n",
    "n_weights = len(X.loc[0,])#the number of weight equals to the number of features(including bias)\n",
    "perceptron.initialize(n_weights)\n",
    "\n",
    "#test before training\n",
    "print('before training:')\n",
    "for i in range(len(X)):\n",
    "    example = X.loc[i,]\n",
    "    example_y = y.loc[i,]\n",
    "    o = perceptron.predict(example)\n",
    "    print(o, example_y.values)\n",
    "\n",
    "# Training\n",
    "# feed one instance each time\n",
    "for epoch in range(100):\n",
    "    for i in range(len(X)):\n",
    "        example = X.loc[i,]\n",
    "        example_y = y.loc[i,]\n",
    "        perceptron.feed(example,example_y)\n",
    "        perceptron.caculate_derivative()\n",
    "        perceptron.updateWeights(e=0.1)       \n",
    "\n",
    "#test after training\n",
    "print('after training:')\n",
    "for i in range(len(X)):\n",
    "    example = X.loc[i,]\n",
    "    example_y = y.loc[i,]\n",
    "    o = perceptron.predict(example)\n",
    "    print(o, example_y.values)\n",
    "\n",
    "w = perceptron.getWeight()\n",
    "print('final weight:',w)\n",
    "\n",
    "err= perceptron.getError()\n",
    "    \n",
    "plt.figure(figsize=(10,10))\n",
    "z = np.linspace(0, len(err), len(err))\n",
    "plt.scatter(z, err, linewidth=2)"
   ]
  },
  {
   "cell_type": "markdown",
   "metadata": {},
   "source": [
    "## Tanh"
   ]
  },
  {
   "cell_type": "code",
   "execution_count": 84,
   "metadata": {},
   "outputs": [
    {
     "name": "stdout",
     "output_type": "stream",
     "text": [
      "[0.5 0.5 0.5]\n",
      "before training:\n",
      "0.4621171572600098 [0]\n",
      "0.7615941559557649 [0]\n",
      "0.7615941559557649 [0]\n",
      "0.9051482536448664 [1]\n",
      "after training:\n",
      "-0.2608325535655983 [0]\n",
      "0.2402318894716903 [0]\n",
      "0.26317667282775037 [0]\n",
      "0.653589820431098 [1]\n",
      "final weight: [-0.26700153  0.53651995  0.51202172]\n"
     ]
    },
    {
     "data": {
      "text/plain": [
       "<matplotlib.collections.PathCollection at 0x11e626668>"
      ]
     },
     "execution_count": 84,
     "metadata": {},
     "output_type": "execute_result"
    },
    {
     "data": {
      "image/png": "[encoded data removed]",
      "text/plain": [
       "<Figure size 720x720 with 1 Axes>"
      ]
     },
     "metadata": {},
     "output_type": "display_data"
    }
   ],
   "source": [
    "perceptron = Perceptron(activation=tanh)\n",
    "\n",
    "n_weights = len(X.loc[0,])#the number of weight equals to the number of features(including bias)\n",
    "perceptron.initialize(n_weights)\n",
    "\n",
    "#test before training\n",
    "print('before training:')\n",
    "for i in range(len(X)):\n",
    "    example = X.loc[i,]\n",
    "    example_y = y.loc[i,]\n",
    "    o = perceptron.predict(example)\n",
    "    print(o, example_y.values)\n",
    "\n",
    "# Training\n",
    "# feed one instance each time\n",
    "for epoch in range(100):\n",
    "    for i in range(len(X)):\n",
    "        example = X.loc[i,]\n",
    "        example_y = y.loc[i,]\n",
    "        perceptron.feed(example,example_y)\n",
    "        perceptron.caculate_derivative()\n",
    "        perceptron.updateWeights(e=0.1)       \n",
    "\n",
    "#test after training\n",
    "print('after training:')\n",
    "for i in range(len(X)):\n",
    "    example = X.loc[i,]\n",
    "    example_y = y.loc[i,]\n",
    "    o = perceptron.predict(example)\n",
    "    print(o, example_y.values)\n",
    "\n",
    "w = perceptron.getWeight()\n",
    "print('final weight:',w)\n",
    "\n",
    "err= perceptron.getError()\n",
    "    \n",
    "plt.figure(figsize=(10,10))\n",
    "z = np.linspace(0, len(err), len(err))\n",
    "plt.scatter(z, err, linewidth=2)"
   ]
  },
  {
   "cell_type": "markdown",
   "metadata": {},
   "source": [
    "## relu"
   ]
  },
  {
   "cell_type": "code",
   "execution_count": 85,
   "metadata": {},
   "outputs": [
    {
     "name": "stdout",
     "output_type": "stream",
     "text": [
      "[0.5 0.5 0.5]\n",
      "before training:\n",
      "0.5 [0]\n",
      "1.0 [0]\n",
      "1.0 [0]\n",
      "1.5 [1]\n",
      "after training:\n",
      "0.0 [0]\n",
      "0.04848448030895369 [0]\n",
      "0.054502396092784844 [0]\n",
      "0.951028851376768 [1]\n",
      "final weight: [-0.84804197  0.90254437  0.89652646]\n"
     ]
    },
    {
     "data": {
      "text/plain": [
       "<matplotlib.collections.PathCollection at 0x11e688b38>"
      ]
     },
     "execution_count": 85,
     "metadata": {},
     "output_type": "execute_result"
    },
    {
     "data": {
      "image/png": "[encoded data removed]",
      "text/plain": [
       "<Figure size 720x720 with 1 Axes>"
      ]
     },
     "metadata": {},
     "output_type": "display_data"
    }
   ],
   "source": [
    "perceptron = Perceptron(activation=relu)\n",
    "\n",
    "n_weights = len(X.loc[0,])#the number of weight equals to the number of features(including bias)\n",
    "perceptron.initialize(n_weights)\n",
    "\n",
    "#test before training\n",
    "print('before training:')\n",
    "for i in range(len(X)):\n",
    "    example = X.loc[i,]\n",
    "    example_y = y.loc[i,]\n",
    "    o = perceptron.predict(example)\n",
    "    print(o, example_y.values)\n",
    "\n",
    "# Training\n",
    "# feed one instance each time\n",
    "for epoch in range(100):\n",
    "    for i in range(len(X)):\n",
    "        example = X.loc[i,]\n",
    "        example_y = y.loc[i,]\n",
    "        perceptron.feed(example,example_y)\n",
    "        perceptron.caculate_derivative()\n",
    "        perceptron.updateWeights(e=0.1)       \n",
    "\n",
    "#test after training\n",
    "print('after training:')\n",
    "for i in range(len(X)):\n",
    "    example = X.loc[i,]\n",
    "    example_y = y.loc[i,]\n",
    "    o = perceptron.predict(example)\n",
    "    print(o, example_y.values)\n",
    "\n",
    "w = perceptron.getWeight()\n",
    "print('final weight:',w)\n",
    "\n",
    "err= perceptron.getError()\n",
    "    \n",
    "plt.figure(figsize=(10,10))\n",
    "z = np.linspace(0, len(err), len(err))\n",
    "plt.scatter(z, err, linewidth=2)"
   ]
  },
  {
   "cell_type": "markdown",
   "metadata": {},
   "source": [
    "1. how we feed the dataset does matter    \n",
    "   the order    \n",
    "   one or batch\n",
    "2. activation functions do mater"
   ]
  },
  {
   "cell_type": "markdown",
   "metadata": {},
   "source": [
    "# OR"
   ]
  },
  {
   "cell_type": "code",
   "execution_count": 93,
   "metadata": {},
   "outputs": [
    {
     "name": "stdout",
     "output_type": "stream",
     "text": [
      "   x0  x1  x2  y\n",
      "0   1   0   0  0\n",
      "1   1   0   1  1\n",
      "2   1   1   0  1\n",
      "3   1   1   1  1\n"
     ]
    }
   ],
   "source": [
    "#Or\n",
    "data = pd.DataFrame({\n",
    "    'x0': [1,1,1,1],#bias\n",
    "    'x1': [0,0,1,1],\n",
    "    'x2': [0,1,0,1],\n",
    "    'y':  [0,1,1,1]})\n",
    "\n",
    "print(data)\n",
    "\n",
    "X = data[['x0','x1','x2']]\n",
    "y = data[['y']]"
   ]
  },
  {
   "cell_type": "markdown",
   "metadata": {},
   "source": [
    "## without activition function"
   ]
  },
  {
   "cell_type": "code",
   "execution_count": 98,
   "metadata": {},
   "outputs": [
    {
     "name": "stdout",
     "output_type": "stream",
     "text": [
      "[0.5 0.5 0.5]\n",
      "before training:\n",
      "0.5 [0]\n",
      "1.0 [1]\n",
      "1.0 [1]\n",
      "1.5 [1]\n",
      "after training:\n",
      "0.2778425566613228 [0]\n",
      "0.7500152223026322 [1]\n",
      "0.7222405658787989 [1]\n",
      "1.1944132315201084 [1]\n",
      "final weight: [0.27784256 0.44439801 0.47217267]\n"
     ]
    },
    {
     "data": {
      "text/plain": [
       "<matplotlib.collections.PathCollection at 0x11f5c0588>"
      ]
     },
     "execution_count": 98,
     "metadata": {},
     "output_type": "execute_result"
    },
    {
     "data": {
      "image/png": "[encoded data removed]",
      "text/plain": [
       "<Figure size 720x720 with 1 Axes>"
      ]
     },
     "metadata": {},
     "output_type": "display_data"
    }
   ],
   "source": [
    "perceptron = Perceptron()\n",
    "\n",
    "n_weights = len(X.loc[0,])#the number of weight equals to the number of features(including bias)\n",
    "perceptron.initialize(n_weights)\n",
    "\n",
    "#test before training\n",
    "print('before training:')\n",
    "for i in range(len(X)):\n",
    "    example = X.loc[i,]\n",
    "    example_y = y.loc[i,]\n",
    "    o = perceptron.predict(example)\n",
    "    print(o, example_y.values)\n",
    "\n",
    "# Training\n",
    "# feed one instance each time\n",
    "for epoch in range(100):\n",
    "    for i in range(len(X)):\n",
    "        example = X.loc[i,]\n",
    "        example_y = y.loc[i,]\n",
    "        perceptron.feed(example,example_y)\n",
    "        perceptron.caculate_derivative()\n",
    "        perceptron.updateWeights(e=0.1)       \n",
    "\n",
    "#test after training\n",
    "print('after training:')\n",
    "for i in range(len(X)):\n",
    "    example = X.loc[i,]\n",
    "    example_y = y.loc[i,]\n",
    "    o = perceptron.predict(example)\n",
    "    print(o, example_y.values)\n",
    "\n",
    "w = perceptron.getWeight()\n",
    "print('final weight:',w)\n",
    "\n",
    "err= perceptron.getError()\n",
    "    \n",
    "plt.figure(figsize=(10,10))\n",
    "z = np.linspace(0, len(err), len(err))\n",
    "plt.scatter(z, err, linewidth=2)"
   ]
  },
  {
   "cell_type": "markdown",
   "metadata": {},
   "source": [
    "## sigmoid"
   ]
  },
  {
   "cell_type": "code",
   "execution_count": 101,
   "metadata": {},
   "outputs": [
    {
     "name": "stdout",
     "output_type": "stream",
     "text": [
      "[0.5 0.5 0.5]\n",
      "before training:\n",
      "0.7310585786300049 [0]\n",
      "0.8807970779778823 [1]\n",
      "0.8807970779778823 [1]\n",
      "0.9525741268224334 [1]\n",
      "after training:\n",
      "0.4195124856039353 [0]\n",
      "0.7926785721982761 [1]\n",
      "0.7920680887819179 [1]\n",
      "0.9527256498975667 [1]\n",
      "final weight: [-0.1623875   0.83110584  0.83296122]\n"
     ]
    },
    {
     "data": {
      "text/plain": [
       "<matplotlib.collections.PathCollection at 0x11f990710>"
      ]
     },
     "execution_count": 101,
     "metadata": {},
     "output_type": "execute_result"
    },
    {
     "data": {
      "image/png": "[encoded data removed]",
      "text/plain": [
       "<Figure size 720x720 with 1 Axes>"
      ]
     },
     "metadata": {},
     "output_type": "display_data"
    }
   ],
   "source": [
    "perceptron = Perceptron(activation=sigmoid)\n",
    "\n",
    "n_weights = len(X.loc[0,])#the number of weight equals to the number of features(including bias)\n",
    "perceptron.initialize(n_weights)\n",
    "\n",
    "#test before training\n",
    "print('before training:')\n",
    "for i in range(len(X)):\n",
    "    example = X.loc[i,]\n",
    "    example_y = y.loc[i,]\n",
    "    o = perceptron.predict(example)\n",
    "    print(o, example_y.values)\n",
    "\n",
    "# Training\n",
    "# feed one instance each time\n",
    "for epoch in range(100):\n",
    "    for i in range(len(X)):\n",
    "        example = X.loc[i,]\n",
    "        example_y = y.loc[i,]\n",
    "        perceptron.feed(example,example_y)\n",
    "        perceptron.caculate_derivative()\n",
    "        perceptron.updateWeights(e=0.1)       \n",
    "\n",
    "#test after training\n",
    "print('after training:')\n",
    "for i in range(len(X)):\n",
    "    example = X.loc[i,]\n",
    "    example_y = y.loc[i,]\n",
    "    o = perceptron.predict(example)\n",
    "    print(o, example_y.values)\n",
    "\n",
    "w = perceptron.getWeight()\n",
    "print('final weight:',w)\n",
    "\n",
    "err= perceptron.getError()\n",
    "    \n",
    "plt.figure(figsize=(10,10))\n",
    "z = np.linspace(0, len(err), len(err))\n",
    "plt.scatter(z, err, linewidth=2)"
   ]
  },
  {
   "cell_type": "markdown",
   "metadata": {},
   "source": [
    "## tanh"
   ]
  },
  {
   "cell_type": "code",
   "execution_count": 102,
   "metadata": {},
   "outputs": [
    {
     "name": "stdout",
     "output_type": "stream",
     "text": [
      "[0.5 0.5 0.5]\n",
      "before training:\n",
      "0.4621171572600098 [0]\n",
      "0.7615941559557649 [1]\n",
      "0.7615941559557649 [1]\n",
      "0.9051482536448664 [1]\n",
      "after training:\n",
      "0.08106527863580189 [0]\n",
      "0.8640310916274594 [1]\n",
      "0.8626070422641208 [1]\n",
      "0.9874198283409408 [1]\n",
      "final weight: [0.08124356 1.22220009 1.22779166]\n"
     ]
    },
    {
     "data": {
      "text/plain": [
       "<matplotlib.collections.PathCollection at 0x11fc9e128>"
      ]
     },
     "execution_count": 102,
     "metadata": {},
     "output_type": "execute_result"
    },
    {
     "data": {
      "image/png": "[encoded data removed]",
      "text/plain": [
       "<Figure size 720x720 with 1 Axes>"
      ]
     },
     "metadata": {},
     "output_type": "display_data"
    }
   ],
   "source": [
    "perceptron = Perceptron(activation=tanh)\n",
    "\n",
    "n_weights = len(X.loc[0,])#the number of weight equals to the number of features(including bias)\n",
    "perceptron.initialize(n_weights)\n",
    "\n",
    "#test before training\n",
    "print('before training:')\n",
    "for i in range(len(X)):\n",
    "    example = X.loc[i,]\n",
    "    example_y = y.loc[i,]\n",
    "    o = perceptron.predict(example)\n",
    "    print(o, example_y.values)\n",
    "\n",
    "# Training\n",
    "# feed one instance each time\n",
    "for epoch in range(100):\n",
    "    for i in range(len(X)):\n",
    "        example = X.loc[i,]\n",
    "        example_y = y.loc[i,]\n",
    "        perceptron.feed(example,example_y)\n",
    "        perceptron.caculate_derivative()\n",
    "        perceptron.updateWeights(e=0.1)       \n",
    "\n",
    "#test after training\n",
    "print('after training:')\n",
    "for i in range(len(X)):\n",
    "    example = X.loc[i,]\n",
    "    example_y = y.loc[i,]\n",
    "    o = perceptron.predict(example)\n",
    "    print(o, example_y.values)\n",
    "\n",
    "w = perceptron.getWeight()\n",
    "print('final weight:',w)\n",
    "\n",
    "err= perceptron.getError()\n",
    "    \n",
    "plt.figure(figsize=(10,10))\n",
    "z = np.linspace(0, len(err), len(err))\n",
    "plt.scatter(z, err, linewidth=2)\n",
    "\n",
    "#???\n",
    "# It seems that we cannot simply use '1 if p>0; 0 else'"
   ]
  },
  {
   "cell_type": "markdown",
   "metadata": {},
   "source": [
    "## relu"
   ]
  },
  {
   "cell_type": "code",
   "execution_count": 106,
   "metadata": {},
   "outputs": [
    {
     "name": "stdout",
     "output_type": "stream",
     "text": [
      "[0.5 0.5 0.5]\n",
      "before training:\n",
      "0.5 [0]\n",
      "1.0 [1]\n",
      "1.0 [1]\n",
      "1.5 [1]\n",
      "after training:\n",
      "0.2778425566613228 [0]\n",
      "0.7500152223026322 [1]\n",
      "0.7222405658787989 [1]\n",
      "1.1944132315201084 [1]\n",
      "final weight: [0.27784256 0.44439801 0.47217267]\n"
     ]
    },
    {
     "data": {
      "text/plain": [
       "<matplotlib.collections.PathCollection at 0x1201da438>"
      ]
     },
     "execution_count": 106,
     "metadata": {},
     "output_type": "execute_result"
    },
    {
     "data": {
      "image/png": "[encoded data removed]",
      "text/plain": [
       "<Figure size 720x720 with 1 Axes>"
      ]
     },
     "metadata": {},
     "output_type": "display_data"
    }
   ],
   "source": [
    "perceptron = Perceptron(activation=relu)\n",
    "\n",
    "n_weights = len(X.loc[0,])#the number of weight equals to the number of features(including bias)\n",
    "perceptron.initialize(n_weights)\n",
    "\n",
    "#test before training\n",
    "print('before training:')\n",
    "for i in range(len(X)):\n",
    "    example = X.loc[i,]\n",
    "    example_y = y.loc[i,]\n",
    "    o = perceptron.predict(example)\n",
    "    print(o, example_y.values)\n",
    "\n",
    "# Training\n",
    "# feed one instance each time\n",
    "for epoch in range(100):\n",
    "    for i in range(len(X)):\n",
    "        example = X.loc[i,]\n",
    "        example_y = y.loc[i,]\n",
    "        perceptron.feed(example,example_y)\n",
    "        perceptron.caculate_derivative()\n",
    "        perceptron.updateWeights(e=0.1)       \n",
    "\n",
    "#test after training\n",
    "print('after training:')\n",
    "for i in range(len(X)):\n",
    "    example = X.loc[i,]\n",
    "    example_y = y.loc[i,]\n",
    "    o = perceptron.predict(example)\n",
    "    print(o, example_y.values)\n",
    "\n",
    "w = perceptron.getWeight()\n",
    "print('final weight:',w)\n",
    "\n",
    "err= perceptron.getError()\n",
    "    \n",
    "plt.figure(figsize=(10,10))\n",
    "z = np.linspace(0, len(err), len(err))\n",
    "plt.scatter(z, err, linewidth=2)"
   ]
  },
  {
   "cell_type": "code",
   "execution_count": 145,
   "metadata": {},
   "outputs": [],
   "source": [
    "class PerceptronB:\n",
    "    DEBUG = True\n",
    "    def __init__(self, activation=None, name=\"\"):\n",
    "        self.name = name\n",
    "        self.activation = activation\n",
    "        \n",
    "    def initialize(self, n_weights):\n",
    "        self.weight = np.ones(n_weights)\n",
    "        self.weight = self.weight.dot(0.5) #inital value [w0,w1,w2] = [0.5 0.5 0.5]\n",
    "        if(self.DEBUG):\n",
    "            print('inital weight:', self.weight)\n",
    "        self.err = [] #store the err for each epoch to track the training process\n",
    "        \n",
    "    def reset_err(self):\n",
    "        self.err = []\n",
    "        \n",
    "    def feed(self, X, y):\n",
    "        self.X = X\n",
    "        self.y = y\n",
    "        \n",
    "    def out(self):#X, weight, activation function\n",
    "        print(self.X.values)\n",
    "        h = self.X.values.dot(self.weight.T)\n",
    "\n",
    "        if(self.activation):\n",
    "            self.output = self.activation(h)\n",
    "        else:\n",
    "            self.output = h\n",
    "        if(self.DEBUG):\n",
    "            print('self.output:', self.output)\n",
    "        return self.output\n",
    "    \n",
    "    def caculate_derivative(self):# o\n",
    "        self.out()\n",
    "        \n",
    "        if(self.activation is tanh):\n",
    "            self.derivative = 1 - self.output**2\n",
    "        elif(self.activation is relu):\n",
    "            self.derivative = derivative_relu(self.output)\n",
    "        elif(self.activation is sigmoid):\n",
    "            self.derivative = self.output*(1-self.output)\n",
    "        else:\n",
    "            self.derivative = 1\n",
    "        if(self.DEBUG):\n",
    "            print('self.derivative:\\n',self.derivative)\n",
    "        \n",
    "    def updateWeights(self, e=0.1):\n",
    "        e_list = self.y.values[:,0] - self.output\n",
    "        e_list = [x**2 for x in e_list]\n",
    "        self.err.append(sum(e_list))\n",
    "        \n",
    "        delta = (self.y.values-self.output)*self.derivative\n",
    "        e_delta = e*delta #irrelevant to i\n",
    "        e_delta = e_delta[np.newaxis, :]\n",
    "\n",
    "        change = e_delta.dot(self.X.values[np.newaxis, :])\n",
    "        self.weight = self.weight + change\n",
    "        self.weight = self.weight.reshape(self.weight.shape[1])\n",
    "        #print('new weight:\\n', self.weight, '\\nshape:\\n', self.weight.shape)\n",
    "        \n",
    "    def predict(self, instance):\n",
    "        h = sum(instance.values*self.weight)\n",
    "        \n",
    "        if(self.activation):#not None\n",
    "            return self.activation(h)\n",
    "        else:\n",
    "            return h\n",
    "        \n",
    "    def getError(self):\n",
    "        return self.err\n",
    "    \n",
    "    def getWeight(self):\n",
    "        return self.weight"
   ]
  },
  {
   "cell_type": "code",
   "execution_count": 146,
   "metadata": {},
   "outputs": [
    {
     "name": "stdout",
     "output_type": "stream",
     "text": [
      "inital weight: [0.5 0.5 0.5]\n",
      "before training:\n",
      "0.5 [0]\n",
      "1.0 [1]\n",
      "1.0 [1]\n",
      "1.5 [1]\n",
      "[[1 0 0]\n",
      " [1 0 1]\n",
      " [1 1 0]\n",
      " [1 1 1]]\n",
      "self.output: [0.5 1.  1.  1.5]\n",
      "[[1 0 0]\n",
      " [1 0 1]\n",
      " [1 1 0]\n",
      " [1 1 1]]\n",
      "self.output: [0.5 1.  1.  1.5]\n",
      "self.derivative:\n",
      " [1 1 1 1]\n",
      "0.5\n"
     ]
    },
    {
     "ename": "ValueError",
     "evalue": "cannot reshape array of size 12 into shape (4,)",
     "output_type": "error",
     "traceback": [
      "\u001b[0;31m---------------------------------------------------------------------------\u001b[0m",
      "\u001b[0;31mValueError\u001b[0m                                Traceback (most recent call last)",
      "\u001b[0;32m<ipython-input-146-dce62d1af312>\u001b[0m in \u001b[0;36m<module>\u001b[0;34m()\u001b[0m\n\u001b[1;32m     18\u001b[0m         \u001b[0mperceptron\u001b[0m\u001b[0;34m.\u001b[0m\u001b[0mout\u001b[0m\u001b[0;34m(\u001b[0m\u001b[0;34m)\u001b[0m\u001b[0;34m\u001b[0m\u001b[0m\n\u001b[1;32m     19\u001b[0m         \u001b[0mperceptron\u001b[0m\u001b[0;34m.\u001b[0m\u001b[0mcaculate_derivative\u001b[0m\u001b[0;34m(\u001b[0m\u001b[0;34m)\u001b[0m\u001b[0;34m\u001b[0m\u001b[0m\n\u001b[0;32m---> 20\u001b[0;31m         \u001b[0mperceptron\u001b[0m\u001b[0;34m.\u001b[0m\u001b[0mupdateWeights\u001b[0m\u001b[0;34m(\u001b[0m\u001b[0me\u001b[0m\u001b[0;34m=\u001b[0m\u001b[0;36m0.1\u001b[0m\u001b[0;34m)\u001b[0m\u001b[0;34m\u001b[0m\u001b[0m\n\u001b[0m\u001b[1;32m     21\u001b[0m \u001b[0;34m\u001b[0m\u001b[0m\n\u001b[1;32m     22\u001b[0m \u001b[0;31m#test after training\u001b[0m\u001b[0;34m\u001b[0m\u001b[0;34m\u001b[0m\u001b[0m\n",
      "\u001b[0;32m<ipython-input-145-18c770845580>\u001b[0m in \u001b[0;36mupdateWeights\u001b[0;34m(self, e)\u001b[0m\n\u001b[1;32m     57\u001b[0m         \u001b[0mchange\u001b[0m \u001b[0;34m=\u001b[0m \u001b[0me_delta\u001b[0m\u001b[0;34m.\u001b[0m\u001b[0mdot\u001b[0m\u001b[0;34m(\u001b[0m\u001b[0mself\u001b[0m\u001b[0;34m.\u001b[0m\u001b[0mX\u001b[0m\u001b[0;34m.\u001b[0m\u001b[0mvalues\u001b[0m\u001b[0;34m[\u001b[0m\u001b[0mnp\u001b[0m\u001b[0;34m.\u001b[0m\u001b[0mnewaxis\u001b[0m\u001b[0;34m,\u001b[0m \u001b[0;34m:\u001b[0m\u001b[0;34m]\u001b[0m\u001b[0;34m)\u001b[0m\u001b[0;34m\u001b[0m\u001b[0m\n\u001b[1;32m     58\u001b[0m         \u001b[0mself\u001b[0m\u001b[0;34m.\u001b[0m\u001b[0mweight\u001b[0m \u001b[0;34m=\u001b[0m \u001b[0mself\u001b[0m\u001b[0;34m.\u001b[0m\u001b[0mweight\u001b[0m \u001b[0;34m+\u001b[0m \u001b[0mchange\u001b[0m\u001b[0;34m\u001b[0m\u001b[0m\n\u001b[0;32m---> 59\u001b[0;31m         \u001b[0mself\u001b[0m\u001b[0;34m.\u001b[0m\u001b[0mweight\u001b[0m \u001b[0;34m=\u001b[0m \u001b[0mself\u001b[0m\u001b[0;34m.\u001b[0m\u001b[0mweight\u001b[0m\u001b[0;34m.\u001b[0m\u001b[0mreshape\u001b[0m\u001b[0;34m(\u001b[0m\u001b[0mself\u001b[0m\u001b[0;34m.\u001b[0m\u001b[0mweight\u001b[0m\u001b[0;34m.\u001b[0m\u001b[0mshape\u001b[0m\u001b[0;34m[\u001b[0m\u001b[0;36m1\u001b[0m\u001b[0;34m]\u001b[0m\u001b[0;34m)\u001b[0m\u001b[0;34m\u001b[0m\u001b[0m\n\u001b[0m\u001b[1;32m     60\u001b[0m         \u001b[0;31m#print('new weight:\\n', self.weight, '\\nshape:\\n', self.weight.shape)\u001b[0m\u001b[0;34m\u001b[0m\u001b[0;34m\u001b[0m\u001b[0m\n\u001b[1;32m     61\u001b[0m \u001b[0;34m\u001b[0m\u001b[0m\n",
      "\u001b[0;31mValueError\u001b[0m: cannot reshape array of size 12 into shape (4,)"
     ]
    }
   ],
   "source": [
    "perceptron = PerceptronB(activation=relu)\n",
    "\n",
    "n_weights = len(X.loc[0,])#the number of weight equals to the number of features(including bias)\n",
    "perceptron.initialize(n_weights)\n",
    "\n",
    "#test before training\n",
    "print('before training:')\n",
    "for i in range(len(X)):\n",
    "    example = X.loc[i,]\n",
    "    example_y = y.loc[i,]\n",
    "    o = perceptron.predict(example)\n",
    "    print(o, example_y.values)\n",
    "\n",
    "# Training\n",
    "# feed one instance each time\n",
    "for epoch in range(100):\n",
    "        perceptron.feed(X, y)\n",
    "        perceptron.out()\n",
    "        perceptron.caculate_derivative()\n",
    "        perceptron.updateWeights(e=0.1)       \n",
    "\n",
    "#test after training\n",
    "print('after training:')\n",
    "for i in range(len(X)):\n",
    "    example = X.loc[i,]\n",
    "    example_y = y.loc[i,]\n",
    "    o = perceptron.predict(example)\n",
    "    print(o, example_y.values)\n",
    "\n",
    "w = perceptron.getWeight()\n",
    "print('final weight:',w)\n",
    "\n",
    "err= perceptron.getError()\n",
    "    \n",
    "plt.figure(figsize=(10,10))\n",
    "z = np.linspace(0, len(err), len(err))\n",
    "plt.scatter(z, err, linewidth=2)"
   ]
  },
  {
   "cell_type": "code",
   "execution_count": null,
   "metadata": {},
   "outputs": [],
   "source": []
  },
  {
   "cell_type": "code",
   "execution_count": null,
   "metadata": {},
   "outputs": [],
   "source": []
  }
 ],
 "metadata": {
  "kernelspec": {
   "display_name": "Python 3",
   "language": "python",
   "name": "python3"
  },
  "language_info": {
   "codemirror_mode": {
    "name": "ipython",
    "version": 3
   },
   "file_extension": ".py",
   "mimetype": "text/x-python",
   "name": "python",
   "nbconvert_exporter": "python",
   "pygments_lexer": "ipython3",
   "version": "3.6.1"
  },
  "toc": {
   "colors": {
    "hover_highlight": "#DAA520",
    "navigate_num": "#000000",
    "navigate_text": "#333333",
    "running_highlight": "#FF0000",
    "selected_highlight": "#FFD700",
    "sidebar_border": "#EEEEEE",
    "wrapper_background": "#FFFFFF"
   },
   "moveMenuLeft": true,
   "nav_menu": {
    "height": "192px",
    "width": "252px"
   },
   "navigate_menu": true,
   "number_sections": true,
   "sideBar": true,
   "threshold": 4,
   "toc_cell": false,
   "toc_section_display": "block",
   "toc_window_display": false,
   "widenNotebook": false
  }
 },
 "nbformat": 4,
 "nbformat_minor": 2
}
