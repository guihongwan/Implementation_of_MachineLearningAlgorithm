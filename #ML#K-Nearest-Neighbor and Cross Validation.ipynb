{
 "cells": [
  {
   "cell_type": "code",
   "execution_count": 697,
   "metadata": {},
   "outputs": [],
   "source": [
    "%matplotlib inline\n",
    "import matplotlib\n",
    "import matplotlib.pyplot as plt\n",
    "import pandas as pd\n",
    "import math\n",
    "import numpy as np\n",
    "import heapq"
   ]
  },
  {
   "cell_type": "code",
   "execution_count": 782,
   "metadata": {},
   "outputs": [],
   "source": [
    "from sklearn.base import BaseEstimator\n",
    "from statistics import mean\n",
    "import statistics\n",
    "import math\n",
    "\n",
    "class KNearestClassifier(BaseEstimator):\n",
    "    def __init__(self, k=1):\n",
    "        self.k = k\n",
    "    def fit(self, X, y):\n",
    "        self.X = X\n",
    "        self.y = y\n",
    "    def predict(self, example):\n",
    "        # case:general\n",
    "        \n",
    "        # calculate distances, stored into distance_dict\n",
    "        distance_dict = {}\n",
    "        for idx, x in enumerate(self.X):\n",
    "            diff = (example-x)**2\n",
    "            #distance_dict[diff] = idx \n",
    "            # if there are same diff, some distances will lose, since key is unique\n",
    "            distance_dict[idx] = diff\n",
    "        #print(len(distance_dict),'distance dict:',distance_dict)\n",
    "        \n",
    "        # use heap to get the k minimum distances, stored into k_min\n",
    "        distances = []\n",
    "        for idx, distance in distance_dict.items():\n",
    "            heapq.heappush(distances, distance)\n",
    "            \n",
    "        k_min = []\n",
    "        k = self.k\n",
    "        #print(k, 'distances:', len(distances))\n",
    "        while(k>0):\n",
    "            k_min.append(heapq.heappop(distances))\n",
    "            k -= 1\n",
    "        #print(self.k, ' k_min:', k_min)\n",
    "        \n",
    "        # y of k nearest neighbors\n",
    "        k_min_ret = []\n",
    "        idxs = []\n",
    "        for diff in k_min:\n",
    "            for idx, value in distance_dict.items():\n",
    "                if(value == diff):\n",
    "                    if idx not in idxs:\n",
    "                        idxs.append(idx)\n",
    "                        k_min_ret.append(self.y.values[idx])\n",
    "                        break\n",
    "        \n",
    "        print(self.k, ' k_min_ret:', k_min_ret, idxs)\n",
    "        \n",
    "        #majority\n",
    "#         if(len(k_min_ret)==1):\n",
    "#             return k_min_ret[0] \n",
    "        \n",
    "    \n",
    "        s = pd.Series(k_min_ret)\n",
    "        value_counts = s.value_counts()\n",
    "        max_count = 0\n",
    "        max_value = None\n",
    "        for value, count in value_counts.items():\n",
    "            if(count > max_count):\n",
    "                max_count = count\n",
    "                max_value = value\n",
    "                \n",
    "        ret = {}\n",
    "        ret[example] = max_value\n",
    "        print(ret)\n",
    "        return ret\n",
    "    \n",
    "    \n",
    "        # case:k=1\n",
    "#         min_idx = math.inf\n",
    "#         min_value = math.inf\n",
    "#         for idx, x in enumerate(self.X):\n",
    "#             diff = (example-x)**2\n",
    "#             if(diff < min_value):\n",
    "#                 min_value = diff\n",
    "#                 min_idx = idx\n",
    "#         return self.y[min_idx]"
   ]
  },
  {
   "cell_type": "code",
   "execution_count": 783,
   "metadata": {},
   "outputs": [],
   "source": [
    "def k_cross_validation(classifier, X, y, k=3):\n",
    "    # folders\n",
    "    folders_X = {}\n",
    "    folders_y = {}\n",
    "    n_elements = int(len(X)/k)\n",
    "    #print('n_elements:', n_elements)\n",
    "    for idx in range(k):\n",
    "        folders_X[idx] = X[idx*n_elements:idx*n_elements+n_elements]\n",
    "        folders_y[idx] = y[idx*n_elements:idx*n_elements+n_elements]\n",
    "    #print(folders_X)\n",
    "    #print(folders_y)\n",
    "    \n",
    "    errors = []\n",
    "    for idx in range(k):\n",
    "        X_test = folders_X[idx]\n",
    "        y_test = folders_y[idx]\n",
    "        \n",
    "        X_train = pd.Series()\n",
    "        y_train = pd.Series()\n",
    "        for i in range(k):\n",
    "            if(i != idx):\n",
    "                X_train = pd.concat([X_train, folders_X[i]], axis=0)\n",
    "                y_train = pd.concat([y_train, folders_y[i]], axis=0)\n",
    "        \n",
    "        #print('X_train:\\n',len(X_train))\n",
    "        #print('y_train:\\n',len(y_train))\n",
    "        X_test = X_test.values[0]\n",
    "        #print('X_test:\\n',X_test)\n",
    "        \n",
    "        classifier.fit(X_train, y_train)\n",
    "        y_predict = classifier.predict(X_test)\n",
    "        #print('prediction:', X_test, y_predict)\n",
    "        \n",
    "        y_predict_list  = list(y_predict.values())\n",
    "        #print(y_predict_list)\n",
    "        y_test_list = list(y_test)\n",
    "        #print(y_test_list)\n",
    "        \n",
    "        diff = [test==pred for test, pred in zip(y_test_list, y_predict_list)]\n",
    "        #print(diff)\n",
    "        count = 0\n",
    "        for element in diff:\n",
    "            #print(element)\n",
    "            if(element != True):\n",
    "                count += 1\n",
    "        errors.append(count)\n",
    "    print('error count:', errors, len(errors))\n",
    "    return mean(errors)\n",
    "\n",
    "def cross_validation(classifier, X, y, k=3, cv = 1):\n",
    "    errors = []\n",
    "    for time in range(cv):\n",
    "        e = k_cross_validation(classifier, X, y, k)\n",
    "        errors.append(e)\n",
    "    return mean(errors)\n",
    "    "
   ]
  },
  {
   "cell_type": "code",
   "execution_count": 784,
   "metadata": {},
   "outputs": [],
   "source": [
    "data = pd.DataFrame({\n",
    "    'x': [0,1,2,3,4,5,6,7,8,9,10,11,12,13,14,15,16,17],\n",
    "    'y': ['A','A','A','A','B','A','A','A','A','B','B','B','B','A','B','B','B','B']})\n",
    "\n",
    "X = data['x']\n",
    "y = data['y']"
   ]
  },
  {
   "cell_type": "code",
   "execution_count": 785,
   "metadata": {},
   "outputs": [
    {
     "name": "stdout",
     "output_type": "stream",
     "text": [
      "1  k_min_ret: ['B'] [4]\n",
      "{4.2: 'B'}\n",
      "{4.2: 'B'}\n",
      "1  k_min_ret: ['A'] [0]\n",
      "{0: 'A'}\n",
      "{0: 'A'}\n",
      "1  k_min_ret: ['B'] [17]\n",
      "{17: 'B'}\n",
      "{17: 'B'}\n",
      "1  k_min_ret: ['B'] [17]\n",
      "{18: 'B'}\n",
      "{18: 'B'}\n"
     ]
    }
   ],
   "source": [
    "knn_clf_1 = KNearestClassifier(1)\n",
    "knn_clf_1.fit(X, y)\n",
    "ret = knn_clf_1.predict(4.2)\n",
    "print(ret)\n",
    "ret = knn_clf_1.predict(0)\n",
    "print(ret)\n",
    "ret = knn_clf_1.predict(17)\n",
    "print(ret)\n",
    "ret = knn_clf_1.predict(18)\n",
    "print(ret)"
   ]
  },
  {
   "cell_type": "code",
   "execution_count": 786,
   "metadata": {},
   "outputs": [
    {
     "name": "stdout",
     "output_type": "stream",
     "text": [
      "2  k_min_ret: ['B', 'A'] [4, 5]\n",
      "{4.2: 'B'}\n",
      "{4.2: 'B'}\n"
     ]
    }
   ],
   "source": [
    "knn_clf_2 = KNearestClassifier(2)\n",
    "knn_clf_2.fit(X, y)\n",
    "ret = knn_clf_2.predict(4.2)\n",
    "print(ret)"
   ]
  },
  {
   "cell_type": "code",
   "execution_count": 787,
   "metadata": {},
   "outputs": [
    {
     "name": "stdout",
     "output_type": "stream",
     "text": [
      "3  k_min_ret: ['B', 'A', 'A'] [4, 5, 3]\n",
      "{4.2: 'A'}\n",
      "{4.2: 'A'}\n"
     ]
    }
   ],
   "source": [
    "knn_clf_3 = KNearestClassifier(3)\n",
    "knn_clf_3.fit(X, y)\n",
    "ret = knn_clf_3.predict(4.2)\n",
    "print(ret)"
   ]
  },
  {
   "cell_type": "code",
   "execution_count": 788,
   "metadata": {},
   "outputs": [
    {
     "name": "stdout",
     "output_type": "stream",
     "text": [
      "18\n"
     ]
    }
   ],
   "source": [
    "k_folder = len(X)# left-one-out means only one instance per folder\n",
    "print(k_folder)"
   ]
  },
  {
   "cell_type": "code",
   "execution_count": 789,
   "metadata": {},
   "outputs": [
    {
     "name": "stdout",
     "output_type": "stream",
     "text": [
      "1  k_min_ret: ['A'] [0]\n",
      "{0: 'A'}\n",
      "1  k_min_ret: ['A'] [0]\n",
      "{1: 'A'}\n",
      "1  k_min_ret: ['A'] [1]\n",
      "{2: 'A'}\n",
      "1  k_min_ret: ['A'] [2]\n",
      "{3: 'A'}\n",
      "1  k_min_ret: ['A'] [3]\n",
      "{4: 'A'}\n",
      "1  k_min_ret: ['B'] [4]\n",
      "{5: 'B'}\n",
      "1  k_min_ret: ['A'] [5]\n",
      "{6: 'A'}\n",
      "1  k_min_ret: ['A'] [6]\n",
      "{7: 'A'}\n",
      "1  k_min_ret: ['A'] [7]\n",
      "{8: 'A'}\n",
      "1  k_min_ret: ['A'] [8]\n",
      "{9: 'A'}\n",
      "1  k_min_ret: ['B'] [9]\n",
      "{10: 'B'}\n",
      "1  k_min_ret: ['B'] [10]\n",
      "{11: 'B'}\n",
      "1  k_min_ret: ['B'] [11]\n",
      "{12: 'B'}\n",
      "1  k_min_ret: ['B'] [12]\n",
      "{13: 'B'}\n",
      "1  k_min_ret: ['A'] [13]\n",
      "{14: 'A'}\n",
      "1  k_min_ret: ['B'] [14]\n",
      "{15: 'B'}\n",
      "1  k_min_ret: ['B'] [15]\n",
      "{16: 'B'}\n",
      "1  k_min_ret: ['B'] [16]\n",
      "{17: 'B'}\n",
      "error count: [0, 0, 0, 0, 1, 1, 0, 0, 0, 1, 0, 0, 0, 1, 1, 0, 0, 0] 18\n",
      "0.2777777777777778\n"
     ]
    }
   ],
   "source": [
    "knn_clf = KNearestClassifier()\n",
    "e = cross_validation(knn_clf, X, y, k_folder, 1)\n",
    "print(e)"
   ]
  },
  {
   "cell_type": "code",
   "execution_count": 791,
   "metadata": {},
   "outputs": [
    {
     "name": "stdout",
     "output_type": "stream",
     "text": [
      "2  k_min_ret: ['A', 'A'] [0, 1]\n",
      "{0: 'A'}\n",
      "2  k_min_ret: ['A', 'A'] [0, 1]\n",
      "{1: 'A'}\n",
      "2  k_min_ret: ['A', 'A'] [1, 2]\n",
      "{2: 'A'}\n",
      "2  k_min_ret: ['A', 'B'] [2, 3]\n",
      "{3: 'B'}\n",
      "2  k_min_ret: ['A', 'A'] [3, 4]\n",
      "{4: 'A'}\n",
      "2  k_min_ret: ['B', 'A'] [4, 5]\n",
      "{5: 'B'}\n",
      "2  k_min_ret: ['A', 'A'] [5, 6]\n",
      "{6: 'A'}\n",
      "2  k_min_ret: ['A', 'A'] [6, 7]\n",
      "{7: 'A'}\n",
      "2  k_min_ret: ['A', 'B'] [7, 8]\n",
      "{8: 'B'}\n",
      "2  k_min_ret: ['A', 'B'] [8, 9]\n",
      "{9: 'B'}\n",
      "2  k_min_ret: ['B', 'B'] [9, 10]\n",
      "{10: 'B'}\n",
      "2  k_min_ret: ['B', 'B'] [10, 11]\n",
      "{11: 'B'}\n",
      "2  k_min_ret: ['B', 'A'] [11, 12]\n",
      "{12: 'B'}\n",
      "2  k_min_ret: ['B', 'B'] [12, 13]\n",
      "{13: 'B'}\n",
      "2  k_min_ret: ['A', 'B'] [13, 14]\n",
      "{14: 'B'}\n",
      "2  k_min_ret: ['B', 'B'] [14, 15]\n",
      "{15: 'B'}\n",
      "2  k_min_ret: ['B', 'B'] [15, 16]\n",
      "{16: 'B'}\n",
      "2  k_min_ret: ['B', 'B'] [16, 15]\n",
      "{17: 'B'}\n",
      "error count: [0, 0, 0, 1, 1, 1, 0, 0, 1, 0, 0, 0, 0, 1, 0, 0, 0, 0] 18\n",
      "0.2777777777777778\n"
     ]
    }
   ],
   "source": [
    "knn_clf = KNearestClassifier(2)\n",
    "e = cross_validation(knn_clf, X, y, k_folder, 1)\n",
    "print(e)"
   ]
  },
  {
   "cell_type": "code",
   "execution_count": 792,
   "metadata": {},
   "outputs": [
    {
     "name": "stdout",
     "output_type": "stream",
     "text": [
      "3  k_min_ret: ['A', 'A', 'A'] [0, 1, 2]\n",
      "{0: 'A'}\n",
      "3  k_min_ret: ['A', 'A', 'A'] [0, 1, 2]\n",
      "{1: 'A'}\n",
      "3  k_min_ret: ['A', 'A', 'A'] [1, 2, 0]\n",
      "{2: 'A'}\n",
      "3  k_min_ret: ['A', 'B', 'A'] [2, 3, 1]\n",
      "{3: 'A'}\n",
      "3  k_min_ret: ['A', 'A', 'A'] [3, 4, 2]\n",
      "{4: 'A'}\n",
      "3  k_min_ret: ['B', 'A', 'A'] [4, 5, 3]\n",
      "{5: 'A'}\n",
      "3  k_min_ret: ['A', 'A', 'B'] [5, 6, 4]\n",
      "{6: 'A'}\n",
      "3  k_min_ret: ['A', 'A', 'A'] [6, 7, 5]\n",
      "{7: 'A'}\n",
      "3  k_min_ret: ['A', 'B', 'A'] [7, 8, 6]\n",
      "{8: 'A'}\n",
      "3  k_min_ret: ['A', 'B', 'A'] [8, 9, 7]\n",
      "{9: 'A'}\n",
      "3  k_min_ret: ['B', 'B', 'A'] [9, 10, 8]\n",
      "{10: 'B'}\n",
      "3  k_min_ret: ['B', 'B', 'B'] [10, 11, 9]\n",
      "{11: 'B'}\n",
      "3  k_min_ret: ['B', 'A', 'B'] [11, 12, 10]\n",
      "{12: 'B'}\n",
      "3  k_min_ret: ['B', 'B', 'B'] [12, 13, 11]\n",
      "{13: 'B'}\n",
      "3  k_min_ret: ['A', 'B', 'B'] [13, 14, 12]\n",
      "{14: 'B'}\n",
      "3  k_min_ret: ['B', 'B', 'A'] [14, 15, 13]\n",
      "{15: 'B'}\n",
      "3  k_min_ret: ['B', 'B', 'B'] [15, 16, 14]\n",
      "{16: 'B'}\n",
      "3  k_min_ret: ['B', 'B', 'B'] [16, 15, 14]\n",
      "{17: 'B'}\n",
      "error count: [0, 0, 0, 0, 1, 0, 0, 0, 0, 1, 0, 0, 0, 1, 0, 0, 0, 0] 18\n",
      "0.16666666666666666\n"
     ]
    }
   ],
   "source": [
    "knn_clf = KNearestClassifier(3)\n",
    "e = cross_validation(knn_clf, X, y, k_folder, 1)\n",
    "print(e)"
   ]
  },
  {
   "cell_type": "code",
   "execution_count": 793,
   "metadata": {},
   "outputs": [
    {
     "name": "stdout",
     "output_type": "stream",
     "text": [
      "4  k_min_ret: ['A', 'A', 'A', 'B'] [0, 1, 2, 3]\n",
      "{0: 'A'}\n",
      "4  k_min_ret: ['A', 'A', 'A', 'B'] [0, 1, 2, 3]\n",
      "{1: 'A'}\n",
      "4  k_min_ret: ['A', 'A', 'A', 'B'] [1, 2, 0, 3]\n",
      "{2: 'A'}\n",
      "4  k_min_ret: ['A', 'B', 'A', 'A'] [2, 3, 1, 4]\n",
      "{3: 'A'}\n",
      "4  k_min_ret: ['A', 'A', 'A', 'A'] [3, 4, 2, 5]\n",
      "{4: 'A'}\n",
      "4  k_min_ret: ['B', 'A', 'A', 'A'] [4, 5, 3, 6]\n",
      "{5: 'A'}\n",
      "4  k_min_ret: ['A', 'A', 'B', 'A'] [5, 6, 4, 7]\n",
      "{6: 'A'}\n",
      "4  k_min_ret: ['A', 'A', 'A', 'B'] [6, 7, 5, 8]\n",
      "{7: 'A'}\n",
      "4  k_min_ret: ['A', 'B', 'A', 'B'] [7, 8, 6, 9]\n",
      "{8: 'B'}\n",
      "4  k_min_ret: ['A', 'B', 'A', 'B'] [8, 9, 7, 10]\n",
      "{9: 'B'}\n",
      "4  k_min_ret: ['B', 'B', 'A', 'B'] [9, 10, 8, 11]\n",
      "{10: 'B'}\n",
      "4  k_min_ret: ['B', 'B', 'B', 'A'] [10, 11, 9, 12]\n",
      "{11: 'B'}\n",
      "4  k_min_ret: ['B', 'A', 'B', 'B'] [11, 12, 10, 13]\n",
      "{12: 'B'}\n",
      "4  k_min_ret: ['B', 'B', 'B', 'B'] [12, 13, 11, 14]\n",
      "{13: 'B'}\n",
      "4  k_min_ret: ['A', 'B', 'B', 'B'] [13, 14, 12, 15]\n",
      "{14: 'B'}\n",
      "4  k_min_ret: ['B', 'B', 'A', 'B'] [14, 15, 13, 16]\n",
      "{15: 'B'}\n",
      "4  k_min_ret: ['B', 'B', 'B', 'A'] [15, 16, 14, 13]\n",
      "{16: 'B'}\n",
      "4  k_min_ret: ['B', 'B', 'B', 'A'] [16, 15, 14, 13]\n",
      "{17: 'B'}\n",
      "error count: [0, 0, 0, 0, 1, 0, 0, 0, 1, 0, 0, 0, 0, 1, 0, 0, 0, 0] 18\n",
      "0.16666666666666666\n"
     ]
    }
   ],
   "source": [
    "knn_clf = KNearestClassifier(4)\n",
    "e = cross_validation(knn_clf, X, y, k_folder, 1)\n",
    "print(e)"
   ]
  },
  {
   "cell_type": "code",
   "execution_count": 795,
   "metadata": {},
   "outputs": [
    {
     "name": "stdout",
     "output_type": "stream",
     "text": [
      "17  k_min_ret: ['A', 'A', 'A', 'B', 'A', 'A', 'A', 'A', 'B', 'B', 'B', 'B', 'A', 'B', 'B', 'B', 'B'] [0, 1, 2, 3, 4, 5, 6, 7, 8, 9, 10, 11, 12, 13, 14, 15, 16]\n",
      "{0: 'B'}\n",
      "17  k_min_ret: ['A', 'A', 'A', 'B', 'A', 'A', 'A', 'A', 'B', 'B', 'B', 'B', 'A', 'B', 'B', 'B', 'B'] [0, 1, 2, 3, 4, 5, 6, 7, 8, 9, 10, 11, 12, 13, 14, 15, 16]\n",
      "{1: 'B'}\n",
      "17  k_min_ret: ['A', 'A', 'A', 'B', 'A', 'A', 'A', 'A', 'B', 'B', 'B', 'B', 'A', 'B', 'B', 'B', 'B'] [1, 2, 0, 3, 4, 5, 6, 7, 8, 9, 10, 11, 12, 13, 14, 15, 16]\n",
      "{2: 'B'}\n",
      "17  k_min_ret: ['A', 'B', 'A', 'A', 'A', 'A', 'A', 'A', 'B', 'B', 'B', 'B', 'A', 'B', 'B', 'B', 'B'] [2, 3, 1, 4, 0, 5, 6, 7, 8, 9, 10, 11, 12, 13, 14, 15, 16]\n",
      "{3: 'B'}\n",
      "17  k_min_ret: ['A', 'A', 'A', 'A', 'A', 'A', 'A', 'A', 'B', 'B', 'B', 'B', 'A', 'B', 'B', 'B', 'B'] [3, 4, 2, 5, 1, 6, 0, 7, 8, 9, 10, 11, 12, 13, 14, 15, 16]\n",
      "{4: 'A'}\n",
      "17  k_min_ret: ['B', 'A', 'A', 'A', 'A', 'A', 'A', 'B', 'A', 'B', 'B', 'B', 'A', 'B', 'B', 'B', 'B'] [4, 5, 3, 6, 2, 7, 1, 8, 0, 9, 10, 11, 12, 13, 14, 15, 16]\n",
      "{5: 'B'}\n",
      "17  k_min_ret: ['A', 'A', 'B', 'A', 'A', 'B', 'A', 'B', 'A', 'B', 'A', 'B', 'A', 'B', 'B', 'B', 'B'] [5, 6, 4, 7, 3, 8, 2, 9, 1, 10, 0, 11, 12, 13, 14, 15, 16]\n",
      "{6: 'B'}\n",
      "17  k_min_ret: ['A', 'A', 'A', 'B', 'B', 'B', 'A', 'B', 'A', 'B', 'A', 'A', 'A', 'B', 'B', 'B', 'B'] [6, 7, 5, 8, 4, 9, 3, 10, 2, 11, 1, 12, 0, 13, 14, 15, 16]\n",
      "{7: 'B'}\n",
      "17  k_min_ret: ['A', 'B', 'A', 'B', 'A', 'B', 'B', 'B', 'A', 'A', 'A', 'B', 'A', 'B', 'A', 'B', 'B'] [7, 8, 6, 9, 5, 10, 4, 11, 3, 12, 2, 13, 1, 14, 0, 15, 16]\n",
      "{8: 'B'}\n",
      "17  k_min_ret: ['A', 'B', 'A', 'B', 'A', 'B', 'A', 'A', 'B', 'B', 'A', 'B', 'A', 'B', 'A', 'B', 'A'] [8, 9, 7, 10, 6, 11, 5, 12, 4, 13, 3, 14, 2, 15, 1, 16, 0]\n",
      "{9: 'A'}\n",
      "17  k_min_ret: ['B', 'B', 'A', 'B', 'A', 'A', 'A', 'B', 'A', 'B', 'B', 'B', 'A', 'B', 'A', 'A', 'A'] [9, 10, 8, 11, 7, 12, 6, 13, 5, 14, 4, 15, 3, 16, 2, 1, 0]\n",
      "{10: 'A'}\n",
      "17  k_min_ret: ['B', 'B', 'B', 'A', 'A', 'B', 'A', 'B', 'A', 'B', 'A', 'B', 'B', 'A', 'A', 'A', 'A'] [10, 11, 9, 12, 8, 13, 7, 14, 6, 15, 5, 16, 4, 3, 2, 1, 0]\n",
      "{11: 'A'}\n",
      "17  k_min_ret: ['B', 'A', 'B', 'B', 'B', 'B', 'A', 'B', 'A', 'B', 'A', 'A', 'B', 'A', 'A', 'A', 'A'] [11, 12, 10, 13, 9, 14, 8, 15, 7, 16, 6, 5, 4, 3, 2, 1, 0]\n",
      "{12: 'A'}\n",
      "17  k_min_ret: ['B', 'B', 'B', 'B', 'B', 'B', 'B', 'B', 'A', 'A', 'A', 'A', 'B', 'A', 'A', 'A', 'A'] [12, 13, 11, 14, 10, 15, 9, 16, 8, 7, 6, 5, 4, 3, 2, 1, 0]\n",
      "{13: 'B'}\n",
      "17  k_min_ret: ['A', 'B', 'B', 'B', 'B', 'B', 'B', 'B', 'A', 'A', 'A', 'A', 'B', 'A', 'A', 'A', 'A'] [13, 14, 12, 15, 11, 16, 10, 9, 8, 7, 6, 5, 4, 3, 2, 1, 0]\n",
      "{14: 'A'}\n",
      "17  k_min_ret: ['B', 'B', 'A', 'B', 'B', 'B', 'B', 'B', 'A', 'A', 'A', 'A', 'B', 'A', 'A', 'A', 'A'] [14, 15, 13, 16, 12, 11, 10, 9, 8, 7, 6, 5, 4, 3, 2, 1, 0]\n",
      "{15: 'A'}\n",
      "17  k_min_ret: ['B', 'B', 'B', 'A', 'B', 'B', 'B', 'B', 'A', 'A', 'A', 'A', 'B', 'A', 'A', 'A', 'A'] [15, 16, 14, 13, 12, 11, 10, 9, 8, 7, 6, 5, 4, 3, 2, 1, 0]\n",
      "{16: 'A'}\n",
      "17  k_min_ret: ['B', 'B', 'B', 'A', 'B', 'B', 'B', 'B', 'A', 'A', 'A', 'A', 'B', 'A', 'A', 'A', 'A'] [16, 15, 14, 13, 12, 11, 10, 9, 8, 7, 6, 5, 4, 3, 2, 1, 0]\n",
      "{17: 'A'}\n",
      "error count: [1, 1, 1, 1, 1, 1, 1, 1, 1, 1, 1, 1, 1, 1, 1, 1, 1, 1] 18\n",
      "1\n"
     ]
    }
   ],
   "source": [
    "knn_clf = KNearestClassifier(17)\n",
    "e = cross_validation(knn_clf, X, y, k_folder, 1)\n",
    "print(e)"
   ]
  },
  {
   "cell_type": "code",
   "execution_count": null,
   "metadata": {},
   "outputs": [],
   "source": []
  },
  {
   "cell_type": "code",
   "execution_count": null,
   "metadata": {},
   "outputs": [],
   "source": []
  },
  {
   "cell_type": "code",
   "execution_count": null,
   "metadata": {},
   "outputs": [],
   "source": []
  }
 ],
 "metadata": {
  "kernelspec": {
   "display_name": "Python 3",
   "language": "python",
   "name": "python3"
  },
  "language_info": {
   "codemirror_mode": {
    "name": "ipython",
    "version": 3
   },
   "file_extension": ".py",
   "mimetype": "text/x-python",
   "name": "python",
   "nbconvert_exporter": "python",
   "pygments_lexer": "ipython3",
   "version": "3.6.1"
  },
  "toc": {
   "colors": {
    "hover_highlight": "#DAA520",
    "navigate_num": "#000000",
    "navigate_text": "#333333",
    "running_highlight": "#FF0000",
    "selected_highlight": "#FFD700",
    "sidebar_border": "#EEEEEE",
    "wrapper_background": "#FFFFFF"
   },
   "moveMenuLeft": true,
   "nav_menu": {
    "height": "12px",
    "width": "252px"
   },
   "navigate_menu": true,
   "number_sections": true,
   "sideBar": true,
   "threshold": 4,
   "toc_cell": false,
   "toc_section_display": "block",
   "toc_window_display": false,
   "widenNotebook": false
  }
 },
 "nbformat": 4,
 "nbformat_minor": 2
}
