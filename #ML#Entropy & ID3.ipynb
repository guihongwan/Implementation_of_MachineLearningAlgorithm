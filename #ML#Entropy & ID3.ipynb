{
 "cells": [
  {
   "cell_type": "code",
   "execution_count": 304,
   "metadata": {},
   "outputs": [],
   "source": [
    "# Functions\n",
    "\n",
    "# Entropy\n",
    "from math import log\n",
    "\n",
    "def get_entropy(probabilities):\n",
    "    en = 0\n",
    "    for p in probabilities:\n",
    "        if(p == 0):\n",
    "            e = 0\n",
    "        else:\n",
    "            e = -p * log(p, 2)\n",
    "        en += e\n",
    "    return en\n",
    "\n",
    "def calc_entropy(data, attribute):\n",
    "    size = len(data)\n",
    "    values_counts = data[attribute].value_counts()\n",
    "    p = []\n",
    "    for idx, count in values_counts.items():\n",
    "        p.append(count/size)\n",
    "    #print(p)\n",
    "    return get_entropy(p)\n",
    "    \n",
    "def calc_conditional_entropy(data, attribute, target):\n",
    "    size = len(data)\n",
    "\n",
    "    # all values of target\n",
    "    target_values_counts = data[target].value_counts()\n",
    "    #print(target_values_counts)\n",
    "    target_values = []\n",
    "    for idx, count in target_values_counts.items():\n",
    "        #print(target_values)\n",
    "        target_values.append(idx)\n",
    "    #print(\"target_values:\", target_values)\n",
    "    \n",
    "    conditional_entropy = 0.0\n",
    "    if(attribute) != target:\n",
    "            #conditional entropy\n",
    "            conditional_entropy = 0.0\n",
    "            \n",
    "            values = data[attribute].value_counts()\n",
    "            for idx, count in values.items():\n",
    "                p_c = count/size\n",
    "                \n",
    "                #print('for condition value', idx)\n",
    "                data_c = data.loc[data[attribute] ==idx,:]\n",
    "                p_target_c = []\n",
    "                for target_value in target_values:\n",
    "                    #print('for target value', target_value)\n",
    "                    data_v_c = data_c.loc[data_c[target] == target_value]\n",
    "                    #print(data_v_c)\n",
    "                    p_target_c.append((len(data_v_c)/size)/p_c)\n",
    "                \n",
    "                #print('condition', p_c)\n",
    "                #print(\"conditional probabilities\", p_target_c)\n",
    "                e = get_entropy(p_target_c)\n",
    "                p_entropy = p_c * e\n",
    "                conditional_entropy += p_entropy\n",
    "\n",
    "    return conditional_entropy\n",
    "\n",
    "def cal_conditional_entropies(data, target):\n",
    "    size = len(data)\n",
    "    attributes = data.columns\n",
    "    entropies = {}\n",
    "    for attribute in attributes:\n",
    "        if(attribute) != target:\n",
    "            entropy = calc_conditional_entropy(data, attribute, target)\n",
    "            entropies[attribute] = entropy\n",
    "    return entropies\n",
    "\n",
    "def calc_target_entropy(data, target):\n",
    "    size = len(data)\n",
    "\n",
    "    # all values of target\n",
    "    target_values_counts = data[target].value_counts()\n",
    "    #print(target_values_counts)\n",
    "    p = []\n",
    "    for idx, count in target_values_counts.items():\n",
    "        p.append(count/size)\n",
    "    return get_entropy(p)\n",
    "\n",
    "def get_gains_feature(entropy_value, conditional_entropies):\n",
    "    gains = {}\n",
    "    for key, value in conditional_entropies.items():\n",
    "        gains[key] = entropy_value - value\n",
    "    \n",
    "    max_gain = 0\n",
    "    feature = \"\"\n",
    "    for key,gain in gains.items():\n",
    "        if(max_gain < gain):\n",
    "            max_gain = gain\n",
    "            feature = key\n",
    "    return gains, feature\n",
    "\n",
    "def get_selected_feature(data, target):\n",
    "    conditional_entropies = cal_conditional_entropies(data,target)\n",
    "    entropy_value = calc_target_entropy(data,target)\n",
    "    gains, selected_feature = get_gains_feature(entropy_value, conditional_entropies)\n",
    "    print('gains:',gains)\n",
    "    return selected_feature\n",
    "\n",
    "# get entropies, if entropy ==0 , target is done for corresponding branch\n",
    "def id3_fit(data, target):\n",
    "    root = Node()\n",
    "    selected_feature = get_selected_feature(data, target)\n",
    "    print('selected_feature:', selected_feature)\n",
    "    root.name = selected_feature\n",
    "\n",
    "    children = []\n",
    "    root.children = children\n",
    "\n",
    "    selected_values = data[selected_feature].value_counts()\n",
    "    for value, count in selected_values.items():\n",
    "        #print('value:', value)\n",
    "        new_data = data.loc[data[selected_feature]==value,:]\n",
    "\n",
    "        entropy_value = calc_target_entropy(new_data,target)\n",
    "        #print(entropy_value)\n",
    "\n",
    "        child = Node()\n",
    "        child.value = value\n",
    "\n",
    "        if(entropy_value == 0):\n",
    "            final = new_data[target].values[0]\n",
    "            child.final = final\n",
    "        else:\n",
    "            child = id3_fit(new_data, target)\n",
    "            child.value = value\n",
    "        children.append(child)\n",
    "    return root\n",
    "\n",
    "def id3_inner_predict(node, instance):\n",
    "    if(node.name):\n",
    "        feature = node.name\n",
    "        #print('feature:', feature)\n",
    "        value_of_instance = instance[feature]\n",
    "        #print('value_of_instance:', value_of_instance)\n",
    "    \n",
    "    if(node.children):\n",
    "        children = node.children\n",
    "        for child in children:\n",
    "            if(child.value == value_of_instance):\n",
    "                if(child.final):\n",
    "                    return child.final\n",
    "                else:\n",
    "                    return id3_inner_predict(child, instance)\n",
    "    \n",
    "def id3_predict(node, test_data):\n",
    "    results = {}\n",
    "    for idx in range(len(test_data)):\n",
    "        instance = test_data.loc[idx,:]\n",
    "        \n",
    "        ret = id3_inner_predict(node, instance)\n",
    "        results[idx] = ret\n",
    "    return results\n",
    "        \n",
    "def printTree(node, level):\n",
    "    empty = '  '*level\n",
    "    \n",
    "    if(node.value):\n",
    "        print(empty, node.value,\":\",node.name)\n",
    "    else:\n",
    "        print(empty, node.name)\n",
    "        \n",
    "    if(node.children):\n",
    "        children = node.children\n",
    "        for child in children:\n",
    "            if(child.final):\n",
    "                empty2 = '  '*(level+1)\n",
    "                print(empty2, child.value+\":\", child.final)\n",
    "            else:\n",
    "                printTree(child, level + 1)"
   ]
  },
  {
   "cell_type": "code",
   "execution_count": 303,
   "metadata": {},
   "outputs": [],
   "source": [
    "class Node():\n",
    "    def __init__(self):\n",
    "        self.children = None\n",
    "        self.value = None # the value of data[root's name]\n",
    "        self.name = None\n",
    "        self.final = None # final class\n",
    "    "
   ]
  },
  {
   "cell_type": "markdown",
   "metadata": {},
   "source": [
    "# LOAD DATA"
   ]
  },
  {
   "cell_type": "code",
   "execution_count": 2,
   "metadata": {},
   "outputs": [],
   "source": [
    "import pandas as pd\n",
    "\n",
    "data = pd.read_csv(\"datasets/conditional_entropy.csv\")\n"
   ]
  },
  {
   "cell_type": "code",
   "execution_count": 3,
   "metadata": {},
   "outputs": [
    {
     "data": {
      "text/html": [
       "<div>\n",
       "<style scoped>\n",
       "    .dataframe tbody tr th:only-of-type {\n",
       "        vertical-align: middle;\n",
       "    }\n",
       "\n",
       "    .dataframe tbody tr th {\n",
       "        vertical-align: top;\n",
       "    }\n",
       "\n",
       "    .dataframe thead th {\n",
       "        text-align: right;\n",
       "    }\n",
       "</style>\n",
       "<table border=\"1\" class=\"dataframe\">\n",
       "  <thead>\n",
       "    <tr style=\"text-align: right;\">\n",
       "      <th></th>\n",
       "      <th>color</th>\n",
       "      <th>target attribute</th>\n",
       "    </tr>\n",
       "  </thead>\n",
       "  <tbody>\n",
       "    <tr>\n",
       "      <th>0</th>\n",
       "      <td>R</td>\n",
       "      <td>a</td>\n",
       "    </tr>\n",
       "    <tr>\n",
       "      <th>1</th>\n",
       "      <td>R</td>\n",
       "      <td>a</td>\n",
       "    </tr>\n",
       "    <tr>\n",
       "      <th>2</th>\n",
       "      <td>R</td>\n",
       "      <td>b</td>\n",
       "    </tr>\n",
       "    <tr>\n",
       "      <th>3</th>\n",
       "      <td>R</td>\n",
       "      <td>a</td>\n",
       "    </tr>\n",
       "    <tr>\n",
       "      <th>4</th>\n",
       "      <td>G</td>\n",
       "      <td>b</td>\n",
       "    </tr>\n",
       "  </tbody>\n",
       "</table>\n",
       "</div>"
      ],
      "text/plain": [
       "  color target attribute\n",
       "0     R                a\n",
       "1     R                a\n",
       "2     R                b\n",
       "3     R                a\n",
       "4     G                b"
      ]
     },
     "execution_count": 3,
     "metadata": {},
     "output_type": "execute_result"
    }
   ],
   "source": [
    "data.head()"
   ]
  },
  {
   "cell_type": "markdown",
   "metadata": {},
   "source": [
    "# get insights"
   ]
  },
  {
   "cell_type": "code",
   "execution_count": 4,
   "metadata": {},
   "outputs": [],
   "source": [
    "size = len(data)"
   ]
  },
  {
   "cell_type": "code",
   "execution_count": 5,
   "metadata": {},
   "outputs": [
    {
     "name": "stdout",
     "output_type": "stream",
     "text": [
      "0.4\n",
      "0.7499999999999999\n",
      "0.25\n"
     ]
    }
   ],
   "source": [
    "# R\n",
    "data_r = data.loc[data['color'] ==\"R\",:]\n",
    "data_r_a = data_r.loc[data_r['target attribute'] == 'a']\n",
    "data_r_b = data_r.loc[data_r['target attribute'] == 'b']\n",
    "\n",
    "p_r = len(data_r)/size\n",
    "print(p_r)\n",
    "p_ar = (len(data_r_a)/size)/p_r\n",
    "print(p_ar)\n",
    "p_br = (len(data_r_b)/size)/p_r\n",
    "print(p_br)"
   ]
  },
  {
   "cell_type": "code",
   "execution_count": 6,
   "metadata": {},
   "outputs": [
    {
     "name": "stdout",
     "output_type": "stream",
     "text": [
      "0.4\n",
      "0.5\n",
      "0.5\n"
     ]
    }
   ],
   "source": [
    "# G\n",
    "data_g = data.loc[data['color'] ==\"G\",:]\n",
    "data_g_a = data_g.loc[data_g['target attribute'] == 'a']\n",
    "data_g_b = data_g.loc[data_g['target attribute'] == 'b']\n",
    "\n",
    "p_g = len(data_g)/size\n",
    "print(p_g)\n",
    "p_ag = (len(data_g_a)/size)/p_g\n",
    "print(p_ag)\n",
    "p_bg = (len(data_g_b)/size)/p_g\n",
    "print(p_bg)"
   ]
  },
  {
   "cell_type": "code",
   "execution_count": 7,
   "metadata": {},
   "outputs": [
    {
     "name": "stdout",
     "output_type": "stream",
     "text": [
      "0.2\n",
      "0.5\n",
      "0.5\n"
     ]
    }
   ],
   "source": [
    "# B\n",
    "data_B = data.loc[data['color'] ==\"B\",:]\n",
    "data_B_a = data_B.loc[data_B['target attribute'] == 'a']\n",
    "data_B_b = data_B.loc[data_B['target attribute'] == 'b']\n",
    "\n",
    "p_B = len(data_B)/size\n",
    "print(p_B)\n",
    "p_aB = (len(data_B_a)/size)/p_B\n",
    "print(p_aB)\n",
    "p_bB = (len(data_B_b)/size)/p_B\n",
    "print(p_bB)"
   ]
  },
  {
   "cell_type": "markdown",
   "metadata": {},
   "source": [
    "# Gain"
   ]
  },
  {
   "cell_type": "code",
   "execution_count": 8,
   "metadata": {},
   "outputs": [
    {
     "data": {
      "text/html": [
       "<div>\n",
       "<style scoped>\n",
       "    .dataframe tbody tr th:only-of-type {\n",
       "        vertical-align: middle;\n",
       "    }\n",
       "\n",
       "    .dataframe tbody tr th {\n",
       "        vertical-align: top;\n",
       "    }\n",
       "\n",
       "    .dataframe thead th {\n",
       "        text-align: right;\n",
       "    }\n",
       "</style>\n",
       "<table border=\"1\" class=\"dataframe\">\n",
       "  <thead>\n",
       "    <tr style=\"text-align: right;\">\n",
       "      <th></th>\n",
       "      <th>color</th>\n",
       "      <th>target attribute</th>\n",
       "    </tr>\n",
       "  </thead>\n",
       "  <tbody>\n",
       "    <tr>\n",
       "      <th>0</th>\n",
       "      <td>R</td>\n",
       "      <td>a</td>\n",
       "    </tr>\n",
       "    <tr>\n",
       "      <th>1</th>\n",
       "      <td>R</td>\n",
       "      <td>a</td>\n",
       "    </tr>\n",
       "    <tr>\n",
       "      <th>2</th>\n",
       "      <td>R</td>\n",
       "      <td>b</td>\n",
       "    </tr>\n",
       "    <tr>\n",
       "      <th>3</th>\n",
       "      <td>R</td>\n",
       "      <td>a</td>\n",
       "    </tr>\n",
       "    <tr>\n",
       "      <th>4</th>\n",
       "      <td>G</td>\n",
       "      <td>b</td>\n",
       "    </tr>\n",
       "  </tbody>\n",
       "</table>\n",
       "</div>"
      ],
      "text/plain": [
       "  color target attribute\n",
       "0     R                a\n",
       "1     R                a\n",
       "2     R                b\n",
       "3     R                a\n",
       "4     G                b"
      ]
     },
     "execution_count": 8,
     "metadata": {},
     "output_type": "execute_result"
    }
   ],
   "source": [
    "data.head()"
   ]
  },
  {
   "cell_type": "code",
   "execution_count": 9,
   "metadata": {},
   "outputs": [
    {
     "name": "stdout",
     "output_type": "stream",
     "text": [
      "target_values: ['a', 'b']\n",
      "condition 0.4\n",
      "conditional probabilities [0.5, 0.5]\n",
      "condition 0.4\n",
      "conditional probabilities [0.7499999999999999, 0.25]\n",
      "condition 0.2\n",
      "conditional probabilities [0.5, 0.5]\n",
      "0.9245112497836532\n"
     ]
    }
   ],
   "source": [
    "# Calculate the conditional entropies for each feature\n",
    "conditional_entropy = calc_conditional_entropy(data, 'color', 'target attribute')\n",
    "print(conditional_entropy)\n"
   ]
  },
  {
   "cell_type": "code",
   "execution_count": 10,
   "metadata": {},
   "outputs": [
    {
     "name": "stdout",
     "output_type": "stream",
     "text": [
      "target_values: ['a', 'b']\n",
      "condition 0.4\n",
      "conditional probabilities [0.5, 0.5]\n",
      "condition 0.4\n",
      "conditional probabilities [0.7499999999999999, 0.25]\n",
      "condition 0.2\n",
      "conditional probabilities [0.5, 0.5]\n",
      "{'color': 0.9245112497836532}\n"
     ]
    }
   ],
   "source": [
    "conditional_entropies = cal_conditional_entropies(data, 'target attribute')\n",
    "print(conditional_entropies)"
   ]
  },
  {
   "cell_type": "code",
   "execution_count": 11,
   "metadata": {},
   "outputs": [
    {
     "name": "stdout",
     "output_type": "stream",
     "text": [
      "[0.4, 0.4, 0.2]\n",
      "1.5219280948873621\n"
     ]
    }
   ],
   "source": [
    "# Calculate entropy\n",
    "entropy = calc_entropy(data, 'color')\n",
    "print(entropy)"
   ]
  },
  {
   "cell_type": "markdown",
   "metadata": {},
   "source": [
    "# ID3"
   ]
  },
  {
   "cell_type": "code",
   "execution_count": 12,
   "metadata": {},
   "outputs": [],
   "source": [
    "import pandas as pd\n",
    "\n",
    "data = pd.read_csv(\"datasets/id3.csv\")"
   ]
  },
  {
   "cell_type": "code",
   "execution_count": 13,
   "metadata": {},
   "outputs": [
    {
     "data": {
      "text/html": [
       "<div>\n",
       "<style scoped>\n",
       "    .dataframe tbody tr th:only-of-type {\n",
       "        vertical-align: middle;\n",
       "    }\n",
       "\n",
       "    .dataframe tbody tr th {\n",
       "        vertical-align: top;\n",
       "    }\n",
       "\n",
       "    .dataframe thead th {\n",
       "        text-align: right;\n",
       "    }\n",
       "</style>\n",
       "<table border=\"1\" class=\"dataframe\">\n",
       "  <thead>\n",
       "    <tr style=\"text-align: right;\">\n",
       "      <th></th>\n",
       "      <th>Motor</th>\n",
       "      <th>Wheels</th>\n",
       "      <th>Doors</th>\n",
       "      <th>Size</th>\n",
       "      <th>Efficiency</th>\n",
       "    </tr>\n",
       "  </thead>\n",
       "  <tbody>\n",
       "    <tr>\n",
       "      <th>0</th>\n",
       "      <td>no</td>\n",
       "      <td>two</td>\n",
       "      <td>none</td>\n",
       "      <td>small</td>\n",
       "      <td>good</td>\n",
       "    </tr>\n",
       "    <tr>\n",
       "      <th>1</th>\n",
       "      <td>no</td>\n",
       "      <td>three</td>\n",
       "      <td>none</td>\n",
       "      <td>small</td>\n",
       "      <td>bad</td>\n",
       "    </tr>\n",
       "    <tr>\n",
       "      <th>2</th>\n",
       "      <td>yes</td>\n",
       "      <td>two</td>\n",
       "      <td>none</td>\n",
       "      <td>small</td>\n",
       "      <td>good</td>\n",
       "    </tr>\n",
       "    <tr>\n",
       "      <th>3</th>\n",
       "      <td>yes</td>\n",
       "      <td>four</td>\n",
       "      <td>two</td>\n",
       "      <td>small</td>\n",
       "      <td>bad</td>\n",
       "    </tr>\n",
       "    <tr>\n",
       "      <th>4</th>\n",
       "      <td>yes</td>\n",
       "      <td>four</td>\n",
       "      <td>three</td>\n",
       "      <td>medium</td>\n",
       "      <td>good</td>\n",
       "    </tr>\n",
       "  </tbody>\n",
       "</table>\n",
       "</div>"
      ],
      "text/plain": [
       "  Motor Wheels  Doors    Size Efficiency\n",
       "0    no    two   none   small       good\n",
       "1    no  three   none   small        bad\n",
       "2   yes    two   none   small       good\n",
       "3   yes   four    two   small        bad\n",
       "4   yes   four  three  medium       good"
      ]
     },
     "execution_count": 13,
     "metadata": {},
     "output_type": "execute_result"
    }
   ],
   "source": [
    "data.head()"
   ]
  },
  {
   "cell_type": "code",
   "execution_count": 14,
   "metadata": {},
   "outputs": [],
   "source": [
    "target = 'Efficiency'"
   ]
  },
  {
   "cell_type": "code",
   "execution_count": 15,
   "metadata": {},
   "outputs": [
    {
     "name": "stdout",
     "output_type": "stream",
     "text": [
      "target_values: ['good', 'bad']\n",
      "condition 0.7142857142857143\n",
      "conditional probabilities [0.6, 0.39999999999999997]\n",
      "condition 0.2857142857142857\n",
      "conditional probabilities [0.5, 0.5]\n",
      "target_values: ['good', 'bad']\n",
      "condition 0.5714285714285714\n",
      "conditional probabilities [0.5, 0.5]\n",
      "condition 0.2857142857142857\n",
      "conditional probabilities [1.0, 0.0]\n",
      "condition 0.14285714285714285\n",
      "conditional probabilities [0.0, 1.0]\n",
      "target_values: ['good', 'bad']\n",
      "condition 0.42857142857142855\n",
      "conditional probabilities [0.6666666666666666, 0.3333333333333333]\n",
      "condition 0.2857142857142857\n",
      "conditional probabilities [0.5, 0.5]\n",
      "condition 0.14285714285714285\n",
      "conditional probabilities [0.0, 1.0]\n",
      "condition 0.14285714285714285\n",
      "conditional probabilities [1.0, 0.0]\n",
      "target_values: ['good', 'bad']\n",
      "condition 0.5714285714285714\n",
      "conditional probabilities [0.5, 0.5]\n",
      "condition 0.2857142857142857\n",
      "conditional probabilities [1.0, 0.0]\n",
      "condition 0.14285714285714285\n",
      "conditional probabilities [0.0, 1.0]\n",
      "{'Motor': 0.9792504246104776, 'Wheels': 0.5714285714285714, 'Doors': 0.6792696431662097, 'Size': 0.5714285714285714}\n"
     ]
    }
   ],
   "source": [
    "conditional_entropies = cal_conditional_entropies(data,target)\n",
    "print(conditional_entropies)"
   ]
  },
  {
   "cell_type": "code",
   "execution_count": 16,
   "metadata": {},
   "outputs": [
    {
     "name": "stdout",
     "output_type": "stream",
     "text": [
      "0.9852281360342516\n"
     ]
    }
   ],
   "source": [
    "entropy = calc_target_entropy(data,target)\n",
    "print(entropy)"
   ]
  },
  {
   "cell_type": "code",
   "execution_count": 17,
   "metadata": {},
   "outputs": [
    {
     "name": "stdout",
     "output_type": "stream",
     "text": [
      "{'Motor': 0.0059777114237740125, 'Wheels': 0.41379956460568024, 'Doors': 0.3059584928680419, 'Size': 0.41379956460568024}\n"
     ]
    }
   ],
   "source": [
    "gains = {}\n",
    "for key, value in conditional_entropies.items():\n",
    "    gains[key] = entropy - value\n",
    "print(gains)"
   ]
  },
  {
   "cell_type": "code",
   "execution_count": 18,
   "metadata": {},
   "outputs": [
    {
     "data": {
      "text/html": [
       "<div>\n",
       "<style scoped>\n",
       "    .dataframe tbody tr th:only-of-type {\n",
       "        vertical-align: middle;\n",
       "    }\n",
       "\n",
       "    .dataframe tbody tr th {\n",
       "        vertical-align: top;\n",
       "    }\n",
       "\n",
       "    .dataframe thead th {\n",
       "        text-align: right;\n",
       "    }\n",
       "</style>\n",
       "<table border=\"1\" class=\"dataframe\">\n",
       "  <thead>\n",
       "    <tr style=\"text-align: right;\">\n",
       "      <th></th>\n",
       "      <th>Motor</th>\n",
       "      <th>Wheels</th>\n",
       "      <th>Doors</th>\n",
       "      <th>Size</th>\n",
       "      <th>Efficiency</th>\n",
       "    </tr>\n",
       "  </thead>\n",
       "  <tbody>\n",
       "    <tr>\n",
       "      <th>0</th>\n",
       "      <td>no</td>\n",
       "      <td>two</td>\n",
       "      <td>none</td>\n",
       "      <td>small</td>\n",
       "      <td>good</td>\n",
       "    </tr>\n",
       "    <tr>\n",
       "      <th>1</th>\n",
       "      <td>no</td>\n",
       "      <td>three</td>\n",
       "      <td>none</td>\n",
       "      <td>small</td>\n",
       "      <td>bad</td>\n",
       "    </tr>\n",
       "    <tr>\n",
       "      <th>2</th>\n",
       "      <td>yes</td>\n",
       "      <td>two</td>\n",
       "      <td>none</td>\n",
       "      <td>small</td>\n",
       "      <td>good</td>\n",
       "    </tr>\n",
       "    <tr>\n",
       "      <th>3</th>\n",
       "      <td>yes</td>\n",
       "      <td>four</td>\n",
       "      <td>two</td>\n",
       "      <td>small</td>\n",
       "      <td>bad</td>\n",
       "    </tr>\n",
       "    <tr>\n",
       "      <th>4</th>\n",
       "      <td>yes</td>\n",
       "      <td>four</td>\n",
       "      <td>three</td>\n",
       "      <td>medium</td>\n",
       "      <td>good</td>\n",
       "    </tr>\n",
       "    <tr>\n",
       "      <th>5</th>\n",
       "      <td>yes</td>\n",
       "      <td>four</td>\n",
       "      <td>four</td>\n",
       "      <td>medium</td>\n",
       "      <td>good</td>\n",
       "    </tr>\n",
       "    <tr>\n",
       "      <th>6</th>\n",
       "      <td>yes</td>\n",
       "      <td>four</td>\n",
       "      <td>four</td>\n",
       "      <td>large</td>\n",
       "      <td>bad</td>\n",
       "    </tr>\n",
       "  </tbody>\n",
       "</table>\n",
       "</div>"
      ],
      "text/plain": [
       "  Motor Wheels  Doors    Size Efficiency\n",
       "0    no    two   none   small       good\n",
       "1    no  three   none   small        bad\n",
       "2   yes    two   none   small       good\n",
       "3   yes   four    two   small        bad\n",
       "4   yes   four  three  medium       good\n",
       "5   yes   four   four  medium       good\n",
       "6   yes   four   four   large        bad"
      ]
     },
     "execution_count": 18,
     "metadata": {},
     "output_type": "execute_result"
    }
   ],
   "source": [
    "data"
   ]
  },
  {
   "cell_type": "markdown",
   "metadata": {},
   "source": [
    "# ID3 example"
   ]
  },
  {
   "cell_type": "code",
   "execution_count": 98,
   "metadata": {},
   "outputs": [
    {
     "data": {
      "text/html": [
       "<div>\n",
       "<style scoped>\n",
       "    .dataframe tbody tr th:only-of-type {\n",
       "        vertical-align: middle;\n",
       "    }\n",
       "\n",
       "    .dataframe tbody tr th {\n",
       "        vertical-align: top;\n",
       "    }\n",
       "\n",
       "    .dataframe thead th {\n",
       "        text-align: right;\n",
       "    }\n",
       "</style>\n",
       "<table border=\"1\" class=\"dataframe\">\n",
       "  <thead>\n",
       "    <tr style=\"text-align: right;\">\n",
       "      <th></th>\n",
       "      <th>Height</th>\n",
       "      <th>Hair</th>\n",
       "      <th>Eyes</th>\n",
       "      <th>Sensitivity</th>\n",
       "    </tr>\n",
       "  </thead>\n",
       "  <tbody>\n",
       "    <tr>\n",
       "      <th>0</th>\n",
       "      <td>short</td>\n",
       "      <td>blond</td>\n",
       "      <td>blue</td>\n",
       "      <td>yes</td>\n",
       "    </tr>\n",
       "    <tr>\n",
       "      <th>1</th>\n",
       "      <td>tall</td>\n",
       "      <td>blond</td>\n",
       "      <td>brown</td>\n",
       "      <td>no</td>\n",
       "    </tr>\n",
       "    <tr>\n",
       "      <th>2</th>\n",
       "      <td>tall</td>\n",
       "      <td>red</td>\n",
       "      <td>blue</td>\n",
       "      <td>yes</td>\n",
       "    </tr>\n",
       "    <tr>\n",
       "      <th>3</th>\n",
       "      <td>tall</td>\n",
       "      <td>dark</td>\n",
       "      <td>brown</td>\n",
       "      <td>no</td>\n",
       "    </tr>\n",
       "    <tr>\n",
       "      <th>4</th>\n",
       "      <td>short</td>\n",
       "      <td>dark</td>\n",
       "      <td>blue</td>\n",
       "      <td>no</td>\n",
       "    </tr>\n",
       "  </tbody>\n",
       "</table>\n",
       "</div>"
      ],
      "text/plain": [
       "  Height   Hair   Eyes Sensitivity\n",
       "0  short  blond   blue         yes\n",
       "1   tall  blond  brown          no\n",
       "2   tall    red   blue         yes\n",
       "3   tall   dark  brown          no\n",
       "4  short   dark   blue          no"
      ]
     },
     "execution_count": 98,
     "metadata": {},
     "output_type": "execute_result"
    }
   ],
   "source": [
    "import pandas as pd\n",
    "\n",
    "data = pd.read_csv(\"datasets/id3 example.csv\")\n",
    "data.head()"
   ]
  },
  {
   "cell_type": "code",
   "execution_count": 99,
   "metadata": {},
   "outputs": [],
   "source": [
    "target = 'Sensitivity'"
   ]
  },
  {
   "cell_type": "code",
   "execution_count": 100,
   "metadata": {},
   "outputs": [
    {
     "name": "stdout",
     "output_type": "stream",
     "text": [
      "target_values: ['no', 'yes']\n",
      "condition 0.625\n",
      "conditional probabilities [0.6, 0.4]\n",
      "condition 0.375\n",
      "conditional probabilities [0.6666666666666666, 0.3333333333333333]\n",
      "target_values: ['no', 'yes']\n",
      "condition 0.5\n",
      "conditional probabilities [0.5, 0.5]\n",
      "condition 0.375\n",
      "conditional probabilities [1.0, 0.0]\n",
      "condition 0.125\n",
      "conditional probabilities [0.0, 1.0]\n",
      "target_values: ['no', 'yes']\n",
      "condition 0.625\n",
      "conditional probabilities [0.4, 0.6]\n",
      "condition 0.375\n",
      "conditional probabilities [1.0, 0.0]\n",
      "{'Height': 0.9512050593046015, 'Hair': 0.5, 'Eyes': 0.6068441215341679}\n"
     ]
    }
   ],
   "source": [
    "conditional_entropies = cal_conditional_entropies(data,target)\n",
    "print(conditional_entropies)"
   ]
  },
  {
   "cell_type": "code",
   "execution_count": 101,
   "metadata": {},
   "outputs": [
    {
     "name": "stdout",
     "output_type": "stream",
     "text": [
      "0.9544340029249649\n"
     ]
    }
   ],
   "source": [
    "entropy_value = calc_target_entropy(data,target)\n",
    "print(entropy_value)"
   ]
  },
  {
   "cell_type": "code",
   "execution_count": 102,
   "metadata": {},
   "outputs": [
    {
     "name": "stdout",
     "output_type": "stream",
     "text": [
      "{'Height': 0.034023076729650104, 'Hair': 0.48522813603425163, 'Eyes': 0.37838401450008374}\n"
     ]
    }
   ],
   "source": [
    "gains = {}\n",
    "for key, value in conditional_entropies.items():\n",
    "    gains[key] = entropy - value\n",
    "print(gains)"
   ]
  },
  {
   "cell_type": "code",
   "execution_count": 103,
   "metadata": {},
   "outputs": [
    {
     "name": "stdout",
     "output_type": "stream",
     "text": [
      "{'Height': 0.034023076729650104, 'Hair': 0.48522813603425163, 'Eyes': 0.37838401450008374}\n",
      "Hair\n"
     ]
    }
   ],
   "source": [
    "gains, selected_feature = get_gains_feature(entropy, conditional_entropies)\n",
    "print(gains)\n",
    "print(selected_feature)"
   ]
  },
  {
   "cell_type": "code",
   "execution_count": 104,
   "metadata": {},
   "outputs": [
    {
     "data": {
      "text/html": [
       "<div>\n",
       "<style scoped>\n",
       "    .dataframe tbody tr th:only-of-type {\n",
       "        vertical-align: middle;\n",
       "    }\n",
       "\n",
       "    .dataframe tbody tr th {\n",
       "        vertical-align: top;\n",
       "    }\n",
       "\n",
       "    .dataframe thead th {\n",
       "        text-align: right;\n",
       "    }\n",
       "</style>\n",
       "<table border=\"1\" class=\"dataframe\">\n",
       "  <thead>\n",
       "    <tr style=\"text-align: right;\">\n",
       "      <th></th>\n",
       "      <th>Height</th>\n",
       "      <th>Hair</th>\n",
       "      <th>Eyes</th>\n",
       "      <th>Sensitivity</th>\n",
       "    </tr>\n",
       "  </thead>\n",
       "  <tbody>\n",
       "    <tr>\n",
       "      <th>0</th>\n",
       "      <td>short</td>\n",
       "      <td>blond</td>\n",
       "      <td>blue</td>\n",
       "      <td>yes</td>\n",
       "    </tr>\n",
       "    <tr>\n",
       "      <th>1</th>\n",
       "      <td>tall</td>\n",
       "      <td>blond</td>\n",
       "      <td>brown</td>\n",
       "      <td>no</td>\n",
       "    </tr>\n",
       "    <tr>\n",
       "      <th>2</th>\n",
       "      <td>tall</td>\n",
       "      <td>red</td>\n",
       "      <td>blue</td>\n",
       "      <td>yes</td>\n",
       "    </tr>\n",
       "    <tr>\n",
       "      <th>3</th>\n",
       "      <td>tall</td>\n",
       "      <td>dark</td>\n",
       "      <td>brown</td>\n",
       "      <td>no</td>\n",
       "    </tr>\n",
       "    <tr>\n",
       "      <th>4</th>\n",
       "      <td>short</td>\n",
       "      <td>dark</td>\n",
       "      <td>blue</td>\n",
       "      <td>no</td>\n",
       "    </tr>\n",
       "  </tbody>\n",
       "</table>\n",
       "</div>"
      ],
      "text/plain": [
       "  Height   Hair   Eyes Sensitivity\n",
       "0  short  blond   blue         yes\n",
       "1   tall  blond  brown          no\n",
       "2   tall    red   blue         yes\n",
       "3   tall   dark  brown          no\n",
       "4  short   dark   blue          no"
      ]
     },
     "execution_count": 104,
     "metadata": {},
     "output_type": "execute_result"
    }
   ],
   "source": [
    "data.head()"
   ]
  },
  {
   "cell_type": "code",
   "execution_count": 212,
   "metadata": {},
   "outputs": [
    {
     "name": "stdout",
     "output_type": "stream",
     "text": [
      "target_values: ['no', 'yes']\n",
      "condition 0.625\n",
      "conditional probabilities [0.6, 0.4]\n",
      "condition 0.375\n",
      "conditional probabilities [0.6666666666666666, 0.3333333333333333]\n",
      "target_values: ['no', 'yes']\n",
      "condition 0.5\n",
      "conditional probabilities [0.5, 0.5]\n",
      "condition 0.375\n",
      "conditional probabilities [1.0, 0.0]\n",
      "condition 0.125\n",
      "conditional probabilities [0.0, 1.0]\n",
      "target_values: ['no', 'yes']\n",
      "condition 0.625\n",
      "conditional probabilities [0.4, 0.6]\n",
      "condition 0.375\n",
      "conditional probabilities [1.0, 0.0]\n",
      "selected_feature: Hair\n",
      "value: blond\n",
      "1.0\n",
      "target_values: ['no', 'yes']\n",
      "condition 0.5\n",
      "conditional probabilities [0.5, 0.5]\n",
      "condition 0.5\n",
      "conditional probabilities [0.5, 0.5]\n",
      "target_values: ['no', 'yes']\n",
      "condition 1.0\n",
      "conditional probabilities [0.5, 0.5]\n",
      "target_values: ['no', 'yes']\n",
      "condition 0.5\n",
      "conditional probabilities [1.0, 0.0]\n",
      "condition 0.5\n",
      "conditional probabilities [0.0, 1.0]\n",
      "selected_feature: Eyes\n",
      "value: brown\n",
      "0.0\n",
      "value: blue\n",
      "0.0\n",
      "value: dark\n",
      "0.0\n",
      "value: red\n",
      "0.0\n"
     ]
    }
   ],
   "source": [
    "tree = id3_fit(data, target)"
   ]
  },
  {
   "cell_type": "code",
   "execution_count": 216,
   "metadata": {},
   "outputs": [
    {
     "name": "stdout",
     "output_type": "stream",
     "text": [
      " Hair\n",
      "   blond : Eyes\n",
      "     brown: no\n",
      "     blue: yes\n",
      "   dark: no\n",
      "   red: yes\n"
     ]
    }
   ],
   "source": [
    "printTree(tree,0)"
   ]
  },
  {
   "cell_type": "markdown",
   "metadata": {},
   "source": [
    "# HOMEWORK"
   ]
  },
  {
   "cell_type": "code",
   "execution_count": 276,
   "metadata": {},
   "outputs": [
    {
     "data": {
      "text/html": [
       "<div>\n",
       "<style scoped>\n",
       "    .dataframe tbody tr th:only-of-type {\n",
       "        vertical-align: middle;\n",
       "    }\n",
       "\n",
       "    .dataframe tbody tr th {\n",
       "        vertical-align: top;\n",
       "    }\n",
       "\n",
       "    .dataframe thead th {\n",
       "        text-align: right;\n",
       "    }\n",
       "</style>\n",
       "<table border=\"1\" class=\"dataframe\">\n",
       "  <thead>\n",
       "    <tr style=\"text-align: right;\">\n",
       "      <th></th>\n",
       "      <th>WRITABLE</th>\n",
       "      <th>UPDATED</th>\n",
       "      <th>SIZE</th>\n",
       "      <th>CLASS</th>\n",
       "    </tr>\n",
       "  </thead>\n",
       "  <tbody>\n",
       "    <tr>\n",
       "      <th>0</th>\n",
       "      <td>yes</td>\n",
       "      <td>no</td>\n",
       "      <td>small</td>\n",
       "      <td>text</td>\n",
       "    </tr>\n",
       "    <tr>\n",
       "      <th>1</th>\n",
       "      <td>yes</td>\n",
       "      <td>yes</td>\n",
       "      <td>large</td>\n",
       "      <td>text</td>\n",
       "    </tr>\n",
       "    <tr>\n",
       "      <th>2</th>\n",
       "      <td>no</td>\n",
       "      <td>yes</td>\n",
       "      <td>med</td>\n",
       "      <td>text</td>\n",
       "    </tr>\n",
       "    <tr>\n",
       "      <th>3</th>\n",
       "      <td>no</td>\n",
       "      <td>no</td>\n",
       "      <td>med</td>\n",
       "      <td>executable</td>\n",
       "    </tr>\n",
       "    <tr>\n",
       "      <th>4</th>\n",
       "      <td>yes</td>\n",
       "      <td>no</td>\n",
       "      <td>large</td>\n",
       "      <td>executable</td>\n",
       "    </tr>\n",
       "  </tbody>\n",
       "</table>\n",
       "</div>"
      ],
      "text/plain": [
       "  WRITABLE UPDATED   SIZE       CLASS\n",
       "0      yes      no  small        text\n",
       "1      yes     yes  large        text\n",
       "2       no     yes    med        text\n",
       "3       no      no    med  executable\n",
       "4      yes      no  large  executable"
      ]
     },
     "execution_count": 276,
     "metadata": {},
     "output_type": "execute_result"
    }
   ],
   "source": [
    "import pandas as pd\n",
    "\n",
    "data = pd.read_csv(\"datasets/homework1.csv\")\n",
    "data.head()"
   ]
  },
  {
   "cell_type": "code",
   "execution_count": 277,
   "metadata": {},
   "outputs": [],
   "source": [
    "target = 'CLASS'"
   ]
  },
  {
   "cell_type": "code",
   "execution_count": 299,
   "metadata": {},
   "outputs": [
    {
     "name": "stdout",
     "output_type": "stream",
     "text": [
      "gains: {'WRITABLE': 0.08170416594551044, 'UPDATED': 0.4591479170272448, 'SIZE': 0.20751874963942196}\n",
      "selected_feature: UPDATED\n",
      "gains: {'WRITABLE': 0.31127812445913283, 'UPDATED': 0.0, 'SIZE': 0.8112781244591328}\n",
      "selected_feature: SIZE\n"
     ]
    }
   ],
   "source": [
    "tree = id3_fit(data, target)"
   ]
  },
  {
   "cell_type": "code",
   "execution_count": 300,
   "metadata": {},
   "outputs": [
    {
     "name": "stdout",
     "output_type": "stream",
     "text": [
      " UPDATED\n",
      "   no : SIZE\n",
      "     large: executable\n",
      "     small: text\n",
      "     med: executable\n",
      "   yes: text\n"
     ]
    }
   ],
   "source": [
    "printTree(tree,0)"
   ]
  },
  {
   "cell_type": "code",
   "execution_count": 305,
   "metadata": {},
   "outputs": [
    {
     "name": "stdout",
     "output_type": "stream",
     "text": [
      "{0: 'text', 1: 'text'}\n"
     ]
    }
   ],
   "source": [
    "from pandas import DataFrame\n",
    "\n",
    "test_data = DataFrame({\n",
    "    \"WRITABLE\": ['yes', 'no',],\n",
    "    \"UPDATED\": ['yes', 'no'],\n",
    "    \"SIZE\": ['large', 'small'],\n",
    "}).sort_index()\n",
    "\n",
    "\n",
    "result = id3_predict(tree, test_data)\n",
    "print(result)"
   ]
  },
  {
   "cell_type": "code",
   "execution_count": null,
   "metadata": {},
   "outputs": [],
   "source": []
  },
  {
   "cell_type": "code",
   "execution_count": 306,
   "metadata": {},
   "outputs": [
    {
     "data": {
      "text/plain": [
       "1.5"
      ]
     },
     "execution_count": 306,
     "metadata": {},
     "output_type": "execute_result"
    }
   ],
   "source": [
    "get_entropy([1/2,1/4,1/4])"
   ]
  },
  {
   "cell_type": "code",
   "execution_count": 307,
   "metadata": {},
   "outputs": [
    {
     "data": {
      "text/plain": [
       "1.0"
      ]
     },
     "execution_count": 307,
     "metadata": {},
     "output_type": "execute_result"
    }
   ],
   "source": [
    "get_entropy([1/2,1/2])"
   ]
  },
  {
   "cell_type": "code",
   "execution_count": null,
   "metadata": {},
   "outputs": [],
   "source": []
  }
 ],
 "metadata": {
  "kernelspec": {
   "display_name": "Python 3",
   "language": "python",
   "name": "python3"
  },
  "language_info": {
   "codemirror_mode": {
    "name": "ipython",
    "version": 3
   },
   "file_extension": ".py",
   "mimetype": "text/x-python",
   "name": "python",
   "nbconvert_exporter": "python",
   "pygments_lexer": "ipython3",
   "version": "3.6.4"
  },
  "toc": {
   "colors": {
    "hover_highlight": "#DAA520",
    "navigate_num": "#000000",
    "navigate_text": "#333333",
    "running_highlight": "#FF0000",
    "selected_highlight": "#FFD700",
    "sidebar_border": "#EEEEEE",
    "wrapper_background": "#FFFFFF"
   },
   "moveMenuLeft": true,
   "nav_menu": {
    "height": "12px",
    "width": "252px"
   },
   "navigate_menu": true,
   "number_sections": true,
   "sideBar": true,
   "threshold": 4,
   "toc_cell": false,
   "toc_section_display": "block",
   "toc_window_display": false,
   "widenNotebook": false
  }
 },
 "nbformat": 4,
 "nbformat_minor": 2
}
